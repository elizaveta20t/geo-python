{
 "cells": [
  {
   "cell_type": "markdown",
   "metadata": {
    "deletable": false,
    "editable": false,
    "nbgrader": {
     "cell_type": "markdown",
     "checksum": "be779f4342a23441f23be2c4e7ad553d",
     "grade": false,
     "grade_id": "cell-876e2442239d92c8",
     "locked": true,
     "schema_version": 3,
     "solution": false
    }
   },
   "source": [
    "## Задача 2 - Температурный классификатор\n",
    "\n",
    "Во [второй части третьего упражнения на прошлой неделе](https://gitflic.ru/project/geopython-spbu/exercise-3) мы учились классифицировать температуру на четырех разных класса: cold, slippery, warm и hot. Давайте продолжим работать над той же задачей.\n",
    "\n",
    "Ниже вы должны создать функцию по имени `temp_classifier`, которая принимает значение температуры в Цельсиях, чтобы затем классифицировать её в целочисленные числа 0-3 на основе следующих критериев:\n",
    "\n",
    "| Возвращаемое значение | Критерии классификации                                                 |\n",
    "| :----------: | :----------------------------------------------------------------------- |\n",
    "| 0            | Температура ниже -2 градуса по Цельсию                                    |\n",
    "| 1            | Температура равна или теплее -2, но менее +2 градуса Цельсия   |\n",
    "| 2            | Температура равна или теплее, чем +2, но менее чем +15 градусов по Цельсию  |\n",
    "| 3            | Температура равна или теплее, чем +15 градусов по Цельсию                   |\n",
    "\n",
    "### Советы по выполнению упражнения\n",
    "\n",
    "- Используйте **в точности** те же имена переменных, что и в инструкциях, потому что ваши ответы будут автоматически оценены, и тесты, которые оценивают ваши ответы, зависят от того же форматирования или именования переменных, что и в инструкциях.\n",
    "\n",
    "- **Пожалуйста**,\n",
    "\n",
    "    - **Не изменяйте имена файлов**. Сделайте все свое редактирование в файле `Exercise-4-зкщидуь-1.ipynb` (этом файле).\n",
    "    - **Не копируйте/вставляйте ячейки в этом блокноте**. Мы используем автоматизированную систему оценки, которая не будет работать, если есть копии кодовых ячеек.\n",
    "    - **Не изменяйте типы ячеек**. Вы можете добавить ячейки, но изменение типов ячеек для существующих ячеек (например, c кода на Markdown) также приведет к выходу из строя автоматизированной проверки.\n",
    "\n",
    "### Условия успешного выполнения задания\n",
    "\n",
    "- Создание новой функции с именем `temp_classifier`\n",
    "- Определение одного параметра, называемого `temp_celsius` в вашей функции` temp_classifier`\n",
    "- Реклассификация входных температур на основе критериев в приведенной выше таблице и возврат значения класса в виде целочисленного числа (то есть 0, 1, 2 или 3)\n",
    "- Добавление комментариев в ваш код и Docstring, в котором объясняется, как использовать вашу функцию `temp_classifier`\n",
    "- Загрузка вашего блокнота в репозиторий"
   ]
  },
  {
   "cell_type": "markdown",
   "metadata": {
    "deletable": false,
    "editable": false,
    "nbgrader": {
     "cell_type": "markdown",
     "checksum": "ff733e5ceea38a681057a8eddeead168",
     "grade": false,
     "grade_id": "cell-d20f084b9227ee20",
     "locked": true,
     "schema_version": 3,
     "solution": false,
     "task": false
    },
    "tags": []
   },
   "source": [
    "## Соглашение об использовании ИИ\n",
    "\n",
    "**Введите свое имя в ячейку ниже** чтобы подтвердить, что вы следовали [принципам курса об использовании инструментов ИИ](https://geo-python-2024.readthedocs.io/ru/latest/course-info/ai-tools.html) и понимаете, что использование инструментов ИИ считается обманом."
   ]
  },
  {
   "cell_type": "markdown",
   "metadata": {
    "deletable": false,
    "nbgrader": {
     "cell_type": "markdown",
     "checksum": "06aea99b08f9c16f2b7d9501781e8a1a",
     "grade": true,
     "grade_id": "E4-P2-AI-LLM_statement",
     "locked": false,
     "points": 0,
     "schema_version": 3,
     "solution": true,
     "task": false
    },
    "tags": []
   },
   "source": [
    "Ваш ответ:"
   ]
  },
  {
   "cell_type": "markdown",
   "metadata": {
    "deletable": false,
    "editable": false,
    "nbgrader": {
     "cell_type": "markdown",
     "checksum": "535a6519ff689c5f7e12225c47f42b92",
     "grade": false,
     "grade_id": "cell-8cfb83163beb758c",
     "locked": true,
     "schema_version": 3,
     "solution": false,
     "task": false
    }
   },
   "source": [
    "## Часть 1\n",
    "\n",
    "Создайте функцию в ячейке ниже, чтобы классифицировать температуры, как указано.\n",
    "\n",
    "- Ваша функция должна называться `temp_classifier`\n",
    "- У неё должен быть один параметр с именем `temp_celsius`\n",
    "- Она должна классифицировать температуры для данного входного значения температуры"
   ]
  },
  {
   "cell_type": "code",
   "execution_count": null,
   "metadata": {
    "deletable": false,
    "nbgrader": {
     "cell_type": "code",
     "checksum": "f95bbee7e8340310e6146f8a25b58536",
     "grade": false,
     "grade_id": "problem_2_ag_p1_temp_classifier",
     "locked": false,
     "schema_version": 3,
     "solution": true
    }
   },
   "outputs": [],
   "source": [
    "# YOUR CODE HERE\n",
    "raise NotImplementedError()"
   ]
  },
  {
   "cell_type": "markdown",
   "metadata": {
    "deletable": false,
    "editable": false,
    "nbgrader": {
     "cell_type": "markdown",
     "checksum": "b9d162f121d9294d3e20196904cdca28",
     "grade": false,
     "grade_id": "cell-f4a8e418905fb50e",
     "locked": true,
     "schema_version": 3,
     "solution": false
    }
   },
   "source": [
    "Используйте свою недавно созданную функцию, чтобы распечатать ответы на следующие вопросы:"
   ]
  },
  {
   "cell_type": "code",
   "execution_count": null,
   "metadata": {},
   "outputs": [],
   "source": [
    "# 1. Какое значение класса для 16,5 градусов по Цельсию?\n",
    "\n",
    "# 2.Какое значение класса для +2 градусов по Цельсию?\n"
   ]
  },
  {
   "cell_type": "markdown",
   "metadata": {
    "deletable": false,
    "editable": false,
    "nbgrader": {
     "cell_type": "markdown",
     "checksum": "f3281f2f3ad29f5fa085ef5b5a274753",
     "grade": false,
     "grade_id": "cell-460623686e88033b",
     "locked": true,
     "schema_version": 3,
     "solution": false,
     "task": false
    }
   },
   "source": [
    "### Часть 2 – проверки\n",
    "\n",
    "Запустите ячейки ниже, чтобы проверить свой ответ. Обратите внимание, что вы не можете менять тестовые ячейки. Ваше решение верно, если вы не видите никаких ошибок при запуске этих ячеек."
   ]
  },
  {
   "cell_type": "code",
   "execution_count": null,
   "metadata": {
    "deletable": false,
    "editable": false,
    "nbgrader": {
     "cell_type": "code",
     "checksum": "3bfb0886cf9074749eb6757984a79748",
     "grade": true,
     "grade_id": "problem_2_ag_p1_temp_classifier_test1",
     "locked": true,
     "points": 0.5,
     "schema_version": 3,
     "solution": false
    }
   },
   "outputs": [],
   "source": [
    "import inspect\n",
    "\n",
    "# Проверка на существование функции\n",
    "assert inspect.isfunction(temp_classifier)"
   ]
  },
  {
   "cell_type": "code",
   "execution_count": null,
   "metadata": {
    "deletable": false,
    "editable": false,
    "nbgrader": {
     "cell_type": "code",
     "checksum": "981fa7276bfc4263beec3664acc98856",
     "grade": true,
     "grade_id": "problem_2_ag_p1_temp_classifier_test2",
     "locked": true,
     "points": 0.5,
     "schema_version": 3,
     "solution": false
    }
   },
   "outputs": [],
   "source": [
    "# Проверяем, что функция имеет один параметр, а имя памаметра верно\n",
    "params = list(inspect.signature(temp_classifier).parameters.keys())\n",
    "assert len(params) == 1\n",
    "assert params[0] == 'temp_celsius'"
   ]
  },
  {
   "cell_type": "markdown",
   "metadata": {
    "deletable": false,
    "editable": false,
    "nbgrader": {
     "cell_type": "markdown",
     "checksum": "a7731774eb65258982fe6c7c37a17289",
     "grade": false,
     "grade_id": "cell-2085103147b58446",
     "locked": true,
     "schema_version": 3,
     "solution": false,
     "task": false
    }
   },
   "source": [
    "Убедитесь, что функция дает правильные ответы для выбранных значений:"
   ]
  },
  {
   "cell_type": "code",
   "execution_count": null,
   "metadata": {
    "deletable": false,
    "editable": false,
    "nbgrader": {
     "cell_type": "code",
     "checksum": "10b64e184cfa4d6b896f212371afd029",
     "grade": true,
     "grade_id": "problem_2_ag_p1_temp_classifier_test3",
     "locked": true,
     "points": 0.25,
     "schema_version": 3,
     "solution": false
    }
   },
   "outputs": [],
   "source": [
    "# 1. Какое значение класса для 16,5 градусов (Цельсия)?\n",
    "assert temp_classifier(16.5) == 3, 'Неправильный класс'\n",
    "print(\"ok :)\")"
   ]
  },
  {
   "cell_type": "code",
   "execution_count": null,
   "metadata": {
    "deletable": false,
    "editable": false,
    "nbgrader": {
     "cell_type": "code",
     "checksum": "3e81d1348ee62426a4ceea466be9c312",
     "grade": true,
     "grade_id": "problem_2_ag_p1_temp_classifier_test4",
     "locked": true,
     "points": 0.25,
     "schema_version": 3,
     "solution": false
    }
   },
   "outputs": [],
   "source": [
    "# 2. Какое значение класса для +2 градусов (Цельсия)?\n",
    "assert temp_classifier(2) == 2, 'Неправильный класс'\n",
    "print(\"ok :)\")"
   ]
  },
  {
   "cell_type": "code",
   "execution_count": null,
   "metadata": {
    "deletable": false,
    "editable": false,
    "nbgrader": {
     "cell_type": "code",
     "checksum": "062ae3b8f1c51c67c766088689803518",
     "grade": true,
     "grade_id": "problem_2_ag_p1_temp_classifier_test5",
     "locked": true,
     "points": 0.25,
     "schema_version": 3,
     "solution": false
    }
   },
   "outputs": [],
   "source": [
    "# 3. Какое значение класса для +1 градусов (Цельсия)?\n",
    "assert temp_classifier(1) == 1, 'Неправильный класс'\n",
    "print(\"ok :)\")"
   ]
  },
  {
   "cell_type": "code",
   "execution_count": null,
   "metadata": {
    "deletable": false,
    "editable": false,
    "nbgrader": {
     "cell_type": "code",
     "checksum": "4962e6a3f265b93707e9b44718317ce5",
     "grade": true,
     "grade_id": "problem_2_ag_p1_temp_classifier_test6",
     "locked": true,
     "points": 0.25,
     "schema_version": 3,
     "solution": false
    }
   },
   "outputs": [],
   "source": [
    "# 4. Каково значение класса для -5 градусов (Цельсия)?\n",
    "assert temp_classifier(-5) == 0, 'Неправильный класс'\n",
    "print(\"ok :)\")"
   ]
  },
  {
   "cell_type": "markdown",
   "metadata": {
    "deletable": false,
    "editable": false,
    "nbgrader": {
     "cell_type": "markdown",
     "checksum": "ff8778a93115af0c4cf48ed5cec4825d",
     "grade": false,
     "grade_id": "cell-b27291a41da8074d",
     "locked": true,
     "schema_version": 3,
     "solution": false,
     "task": false
    }
   },
   "source": [
    "## Часть 2\n",
    "\n",
    "Проверьте свой код.\n",
    "\n",
    "- Все ли имена переменных правильны?\n",
    "- В вашем коде достаточно комментариев?\n",
    "- Есть ли у вашей функции информативный Docstring?\n",
    "\n",
    "Вы можете добавить любую обратную связь, которая у вас есть, об этой задача в ячейке ниже."
   ]
  },
  {
   "cell_type": "markdown",
   "metadata": {
    "deletable": false,
    "nbgrader": {
     "cell_type": "markdown",
     "checksum": "8d7d2415e5c969177bfc24303dc4b0e9",
     "grade": true,
     "grade_id": "problem_2_manual_check",
     "locked": false,
     "points": 1,
     "schema_version": 3,
     "solution": true,
     "task": false
    }
   },
   "source": [
    "Ваш ответ здесь"
   ]
  }
 ],
 "metadata": {
  "kernelspec": {
   "display_name": "Python 3 (ipykernel)",
   "language": "python",
   "name": "python3"
  },
  "language_info": {
   "codemirror_mode": {
    "name": "ipython",
    "version": 3
   },
   "file_extension": ".py",
   "mimetype": "text/x-python",
   "name": "python",
   "nbconvert_exporter": "python",
   "pygments_lexer": "ipython3",
   "version": "3.10.12"
  }
 },
 "nbformat": 4,
 "nbformat_minor": 4
}
