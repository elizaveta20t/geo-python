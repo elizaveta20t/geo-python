{
 "cells": [
  {
   "cell_type": "markdown",
   "metadata": {
    "deletable": false,
    "editable": false,
    "nbgrader": {
     "cell_type": "markdown",
     "checksum": "787dd3b12bd86a255b32d37924a3e72f",
     "grade": false,
     "grade_id": "cell-0e5a9bb9ec9e7ac9",
     "locked": true,
     "schema_version": 3,
     "solution": false,
     "task": false
    }
   },
   "source": [
    "## Задача 2 - Обработка и выборка данных\n",
    "\n",
    "В этой проблеме вы почистите данные из нашего файла данных, удалив значения без дат, преобразовав значения температуры из Фаренгейта в Цельсии и разложите данные на отдельные наборы, используя код идентификации метеостанции. Мы начнем с очистки и преобразования наших температурных данных. Пожалуйста, выполните задачи ниже, записав свой код в кодовые ячейки в каждом разделе.\n",
    "\n",
    "### Советы по выполнению упражнения\n",
    "\n",
    "- Используйте **в точности** те же имена переменных, что и в инструкциях, потому что ваши ответы будут автоматически оценены, и тесты, которые оценивают ваши ответы, зависят от того же форматирования или именования переменных, что и в инструкциях.\n",
    "\n",
    "- **Пожалуйста**,\n",
    "\n",
    "    - **Не изменяйте имена файлов**. Сделайте всю работу в файле `Exercise-5-problem-2.ipynb` (этом файле).\n",
    "    - **Не копируйте/вставляйте ячейки в этом блокноте**. Мы используем автоматизированную систему оценки, которая не будет работать, если есть копии кодовых ячеек.\n",
    "    - **Не изменяйте типы ячеек**. Вы можете добавить ячейки, но изменение типов ячеек для существующих ячеек (например, c кода на Markdown) также приведет к выходу из строя автоматизированной проверки.\n",
    "\n",
    "### Условия успешного выполнения задания\n",
    "\n",
    "- Создание нового объетка DataFrame под названием `selected`, который содержит выбраееые столбцы\n",
    "- Очистка набора данных путем удаления значений без данных\n",
    "- Создание новой колонки для температуры, преобразованной из Фаренгейта в Цельсии\n",
    "- Разделение данных на отдельные наборы для станций Helsinki Kumpula и Rovaniemi\n",
    "- Сохранение в файлы CSV\n",
    "- Добавление комментарии, которые объясняют, что делают большинство строк в коде\n",
    "- Ответы на пару вопросов в конце задания\n",
    "- Загрузка вашего блокнота в репозиторий "
   ]
  },
  {
   "cell_type": "markdown",
   "metadata": {
    "deletable": false,
    "editable": false,
    "nbgrader": {
     "cell_type": "markdown",
     "checksum": "6b2f5aec06645260282f4b60e46ba28f",
     "grade": false,
     "grade_id": "cell-25baa6770d2bd521",
     "locked": true,
     "schema_version": 3,
     "solution": false,
     "task": false
    }
   },
   "source": [
    "## Соглашение об использовании ИИ\n",
    "\n",
    "**Введите свое имя в ячейку ниже** чтобы подтвердить, что вы следовали [принципам курса об использовании инструментов ИИ](https://geo-python-2024.readthedocs.io/ru/latest/course-info/ai-tools.html) и понимаете, что использование инструментов ИИ считается обманом."
   ]
  },
  {
   "cell_type": "markdown",
   "metadata": {
    "deletable": false,
    "nbgrader": {
     "cell_type": "markdown",
     "checksum": "b32add09092eb690d7e806b198589bc9",
     "grade": true,
     "grade_id": "E5-P2-AI-LLM_statement",
     "locked": false,
     "points": 0,
     "schema_version": 3,
     "solution": true,
     "task": false
    },
    "tags": []
   },
   "source": [
    "ВАШ ОТВЕТ ЗДЕСЬ"
   ]
  },
  {
   "cell_type": "markdown",
   "metadata": {
    "deletable": false,
    "editable": false,
    "nbgrader": {
     "cell_type": "markdown",
     "checksum": "765dc5cd1398d5b7ce9cf42dc2405fcb",
     "grade": false,
     "grade_id": "cell-a49b67e59c4796cb",
     "locked": true,
     "schema_version": 3,
     "solution": false,
     "task": false
    }
   },
   "source": [
    "### Часть 1\n",
    "\n",
    "Первый шаг для этой задачи - загрузить файл данных `6153237444115dat.csv` еще раз в переменную `data` с помощью pandas. Не забудьте указать значения без данных (вы можете скопировать свой код из задачи 1)."
   ]
  },
  {
   "cell_type": "code",
   "execution_count": null,
   "metadata": {
    "deletable": false,
    "nbgrader": {
     "cell_type": "code",
     "checksum": "077376761a2fce1bff0be961d70a03a6",
     "grade": false,
     "grade_id": "problem_2_ag_p1_read_csv",
     "locked": false,
     "schema_version": 3,
     "solution": true
    }
   },
   "outputs": [],
   "source": [
    "data = None\n",
    "\n",
    "# Замените строку ниже вашим кодом\n",
    "raise NotImplementedError()"
   ]
  },
  {
   "cell_type": "markdown",
   "metadata": {
    "deletable": false,
    "editable": false,
    "nbgrader": {
     "cell_type": "markdown",
     "checksum": "a52fc694c1559248e144f53dd7b0b5b9",
     "grade": false,
     "grade_id": "cell-1d46fa7bb8225c54",
     "locked": true,
     "schema_version": 3,
     "solution": false,
     "task": false
    }
   },
   "source": [
    "Убедитесь, что первые ряды DataFrame выглядят хорошо:"
   ]
  },
  {
   "cell_type": "code",
   "execution_count": null,
   "metadata": {},
   "outputs": [],
   "source": []
  },
  {
   "cell_type": "markdown",
   "metadata": {
    "deletable": false,
    "editable": false,
    "nbgrader": {
     "cell_type": "markdown",
     "checksum": "2ef690a87ff17a6d8eecf293b4a26a4b",
     "grade": false,
     "grade_id": "cell-b95a02f5f889a56a",
     "locked": true,
     "schema_version": 3,
     "solution": false,
     "task": false
    }
   },
   "source": [
    "Проверьте количество строк в DataFrame:"
   ]
  },
  {
   "cell_type": "code",
   "execution_count": null,
   "metadata": {},
   "outputs": [],
   "source": []
  },
  {
   "cell_type": "markdown",
   "metadata": {
    "deletable": false,
    "editable": false,
    "nbgrader": {
     "cell_type": "markdown",
     "checksum": "9b584fbcceb8661fca02f5517babcbe3",
     "grade": false,
     "grade_id": "cell-9880f219a5fc3f36",
     "locked": true,
     "schema_version": 3,
     "solution": false,
     "task": false
    }
   },
   "source": [
    "### Часть 2\n",
    "\n",
    "Далее, ваша задача состоит в том, чтобы получить поднабор данных, удалив строки с отсутствующими значениями температуры.\n",
    "\n",
    "- Выберите колонки `USAF`, `YR--MODAHRMN`, `TEMP`, `MAX`, и `MIN` из `data` и поместите их в переменную `selected`\n",
    "- Удалите все строки из `selected` которые не имеют данных в колонке `TEMP` с помощью функции `dropna()` "
   ]
  },
  {
   "cell_type": "code",
   "execution_count": null,
   "metadata": {
    "deletable": false,
    "nbgrader": {
     "cell_type": "code",
     "checksum": "df0349c15e29b97f6dc16a454d7baab8",
     "grade": false,
     "grade_id": "problem_2_ag_p2_dataframe_subset",
     "locked": false,
     "schema_version": 3,
     "solution": true
    }
   },
   "outputs": [],
   "source": [
    "selected = None\n",
    "\n",
    "# Замените строку ниже вашим кодом\n",
    "raise NotImplementedError()"
   ]
  },
  {
   "cell_type": "markdown",
   "metadata": {
    "deletable": false,
    "editable": false,
    "nbgrader": {
     "cell_type": "markdown",
     "checksum": "6bb3c4b113bf2726bea454d00823914c",
     "grade": false,
     "grade_id": "cell-ac41cccbd18488db",
     "locked": true,
     "schema_version": 3,
     "solution": false,
     "task": false
    }
   },
   "source": [
    "Убедитесь, что вы выбрали правильные имена столбцов:"
   ]
  },
  {
   "cell_type": "code",
   "execution_count": null,
   "metadata": {
    "deletable": false,
    "editable": false,
    "nbgrader": {
     "cell_type": "code",
     "checksum": "1c2a497ced94c32984fcda7f4f959b97",
     "grade": true,
     "grade_id": "problem_2_ag_p2_dataframe_subset_test1",
     "locked": true,
     "points": 0.5,
     "schema_version": 3,
     "solution": false
    }
   },
   "outputs": [],
   "source": [
    "selected.head()"
   ]
  },
  {
   "cell_type": "markdown",
   "metadata": {
    "deletable": false,
    "editable": false,
    "nbgrader": {
     "cell_type": "markdown",
     "checksum": "187bc4df32010378e35cf51a6c3017d8",
     "grade": false,
     "grade_id": "cell-7d0260b3b7512daf",
     "locked": true,
     "schema_version": 3,
     "solution": false,
     "task": false
    }
   },
   "source": [
    "Проверьте, сколько у вас строк после удаления значений без данных:"
   ]
  },
  {
   "cell_type": "code",
   "execution_count": null,
   "metadata": {
    "deletable": false,
    "editable": false,
    "nbgrader": {
     "cell_type": "code",
     "checksum": "2ee08ead760618beddcab94c96a56188",
     "grade": true,
     "grade_id": "problem_2_ag_p2_dataframe_subset_test2",
     "locked": true,
     "points": 0.5,
     "schema_version": 3,
     "solution": false
    }
   },
   "outputs": [],
   "source": [
    "len(selected)"
   ]
  },
  {
   "cell_type": "markdown",
   "metadata": {
    "deletable": false,
    "editable": false,
    "nbgrader": {
     "cell_type": "markdown",
     "checksum": "9648ccd34045c8d29a5128ac62515000",
     "grade": false,
     "grade_id": "cell-afd940c0f8c0e2c7",
     "locked": true,
     "schema_version": 3,
     "solution": false,
     "task": false
    }
   },
   "source": [
    "### Часть 3 \n",
    "\n",
    "Затем вы можете преобразовать значения температуры из Фаренгейта в Цельсии.\n",
    "\n",
    "- Создайте новый столбец в `selected` с именем `Celsius`\n",
    "- Преобразуйте температуру в Фаренгейтах из `TEMP` используя формулу преобразования ниже и сохраните результаты в новой колонке `Celsius`.\n",
    "\n",
    "$$\n",
    "\\Large\n",
    "\\begin{equation}\n",
    "  T_{\\mathrm{Celsius}} = (T_{\\mathrm{Fahrenheit}} - 32)~/~1.8\n",
    "\\end{equation}\n",
    "$$\n",
    "\n",
    "- Округлите значение в колонке `Celsius` до 0 знаков после запятой (**не** создавайте новую колонку, обновите текущую)\n",
    "- Преобразуйте значения `Celsius` в целочисленные (**не** создавайте новую колонку, обновите текущую)"
   ]
  },
  {
   "cell_type": "code",
   "execution_count": null,
   "metadata": {
    "deletable": false,
    "nbgrader": {
     "cell_type": "code",
     "checksum": "3b95208426bde59f422229e3e213ae2c",
     "grade": false,
     "grade_id": "problem_2_ag_p3_temperature_calculation",
     "locked": false,
     "schema_version": 3,
     "solution": true
    }
   },
   "outputs": [],
   "source": [
    "# Замените строку ниже вашим кодом\n",
    "raise NotImplementedError()"
   ]
  },
  {
   "cell_type": "code",
   "execution_count": null,
   "metadata": {
    "deletable": false,
    "editable": false,
    "nbgrader": {
     "cell_type": "code",
     "checksum": "7db43e546f42eeca940a62e39f7e07fa",
     "grade": true,
     "grade_id": "problem_2_ag_p3_temperature_calculation_test1",
     "locked": true,
     "points": 0.5,
     "schema_version": 3,
     "solution": false
    }
   },
   "outputs": [],
   "source": [
    "# проверьте данные\n",
    "selected.head()"
   ]
  },
  {
   "cell_type": "code",
   "execution_count": null,
   "metadata": {
    "deletable": false,
    "editable": false,
    "nbgrader": {
     "cell_type": "code",
     "checksum": "b6c99a78d2dd5861897c801af1835c18",
     "grade": true,
     "grade_id": "problem_2_ag_p3_temperature_calculation_test2",
     "locked": true,
     "points": 0.5,
     "schema_version": 3,
     "solution": false
    }
   },
   "outputs": [],
   "source": [
    "# проверьте типы данных\n",
    "print(selected.dtypes)"
   ]
  },
  {
   "cell_type": "markdown",
   "metadata": {
    "deletable": false,
    "editable": false,
    "nbgrader": {
     "cell_type": "markdown",
     "checksum": "eb636becb34dd5d2bac27146ddddc7bb",
     "grade": false,
     "grade_id": "cell-068cfca2d756fb80",
     "locked": true,
     "schema_version": 3,
     "solution": false,
     "task": false
    }
   },
   "source": [
    "### Часть 4 \n",
    "\n",
    "Ваша следующая задача - разделить `selected` на два отдельных набора данных. Пожалуйста, используйте заданные имена переменных и напишите свой ответ в ячейке ниже.\n",
    "\n",
    "- Выберите все ряды в `selected` (объект DataFrame) со значением кода станции `USAF` равным `29980` и сохранитей их в переменной `kumpula`\n",
    "- Выберите все ряды в `selected` (объект DataFrame) со значением кода станции `USAF` равным `28450` и сохранитей их в переменной `rovaniemi`"
   ]
  },
  {
   "cell_type": "code",
   "execution_count": null,
   "metadata": {
    "deletable": false,
    "nbgrader": {
     "cell_type": "code",
     "checksum": "f08df66c0eeeff8a6ab17771b32cb244",
     "grade": false,
     "grade_id": "problem_2_ag_p4_subsets",
     "locked": false,
     "schema_version": 3,
     "solution": true
    }
   },
   "outputs": [],
   "source": [
    "kumpula = None\n",
    "rovaniemi = None\n",
    "\n",
    "# Замените строку ниже вашим кодом\n",
    "raise NotImplementedError()"
   ]
  },
  {
   "cell_type": "code",
   "execution_count": null,
   "metadata": {
    "deletable": false,
    "editable": false,
    "nbgrader": {
     "cell_type": "code",
     "checksum": "9b4d88355b9c048b34ad437ef1343859",
     "grade": true,
     "grade_id": "problem_2_ag_p4_subsets_test1",
     "locked": true,
     "points": 0.5,
     "schema_version": 3,
     "solution": false
    }
   },
   "outputs": [],
   "source": [
    "# проверьте данные\n",
    "print(f\"Kumpula: \\n{kumpula.head()}\\n\")"
   ]
  },
  {
   "cell_type": "code",
   "execution_count": null,
   "metadata": {
    "deletable": false,
    "editable": false,
    "nbgrader": {
     "cell_type": "code",
     "checksum": "5d5f879edc4414a3cbbb6bb9fba00fb9",
     "grade": true,
     "grade_id": "problem_2_ag_p4_subsets_test2",
     "locked": true,
     "points": 0.5,
     "schema_version": 3,
     "solution": false
    }
   },
   "outputs": [],
   "source": [
    "# проверьте данные\n",
    "print(f\"Rovaniemi: \\n{rovaniemi.head()}\\n\")"
   ]
  },
  {
   "cell_type": "markdown",
   "metadata": {
    "deletable": false,
    "editable": false,
    "nbgrader": {
     "cell_type": "markdown",
     "checksum": "083765264401417f223a0c29937a4927",
     "grade": false,
     "grade_id": "cell-e7473ef24ff78a17",
     "locked": true,
     "schema_version": 3,
     "solution": false,
     "task": false
    }
   },
   "source": [
    "### Часть 5\n",
    "\n",
    "Сохраним получившиеся выборки в файл.\n",
    "\n",
    "- Сохраните `kumpula` (объект DataFrame) в файл `Kumpula_temps_May_Aug_2017.csv` (формат CSV)\n",
    "- Сохраните `rovaniemi` (объект DataFrame) в файл `Rovaniemi_temps_May_Aug_2017.csv` (формат CSV)\n",
    "\n",
    "Для каждого файла обязательно\n",
    "\n",
    "- Используйте разделитель \"запятая\" (`,`)\n",
    "- Используйте только 2 десятичных значения для данных с плавающей запятой\n",
    "\n",
    "Не забудьте сохранить оба файла данных в вашем репозитории упражнения 5!"
   ]
  },
  {
   "cell_type": "code",
   "execution_count": null,
   "metadata": {
    "deletable": false,
    "nbgrader": {
     "cell_type": "code",
     "checksum": "6ccdbd0010d5b32f3b5b8f9095f33099",
     "grade": true,
     "grade_id": "problem_2_mg_p5_to_csv",
     "locked": false,
     "points": 0,
     "schema_version": 3,
     "solution": true,
     "task": false
    }
   },
   "outputs": [],
   "source": [
    "# Замените строку ниже вашим кодом\n",
    "raise NotImplementedError()"
   ]
  },
  {
   "cell_type": "code",
   "execution_count": null,
   "metadata": {
    "deletable": false,
    "editable": false,
    "nbgrader": {
     "cell_type": "code",
     "checksum": "ebf2afdcc573b039bbc9df5981779962",
     "grade": true,
     "grade_id": "problem_2_ag_p5_to_csv_test",
     "locked": true,
     "points": 1,
     "schema_version": 3,
     "solution": false
    }
   },
   "outputs": [],
   "source": [
    "#Ячейка только для чтения для скрытых тестов :)"
   ]
  },
  {
   "cell_type": "markdown",
   "metadata": {
    "deletable": false,
    "editable": false,
    "nbgrader": {
     "cell_type": "markdown",
     "checksum": "2666861c749e238b3d0d207bb93e0329",
     "grade": false,
     "grade_id": "cell-3d8b5609d0cea2a9",
     "locked": true,
     "schema_version": 3,
     "solution": false
    }
   },
   "source": [
    "### Подитог \n",
    "\n",
    "- Было ли вам что-нибудь непонятно в ходе выполнения этой задачи?\n",
    "- Вы столкнулись с какими-либо проблемами с десятичным форматированием?\n",
    "\n",
    "Кроме того, убедитесь:\n",
    "\n",
    "- Убедитесь, что ваш код включает информативные комментарии, объясняющие, что делает ваш код\n",
    "- Опубликуйте свои изменения в репозиторий для упражнения 5 (включая 2 новых файла данных)\n",
    "\n",
    "Пожалуйста, напишите свои ответы и комментарии ниже (**активируйте ячейку двойным щелчком**)."
   ]
  },
  {
   "cell_type": "markdown",
   "metadata": {
    "deletable": false,
    "nbgrader": {
     "cell_type": "markdown",
     "checksum": "dcd4c45cfbeb46cb7947778d1cd06f44",
     "grade": true,
     "grade_id": "problem_2_mg_p6_problem_2_questions",
     "locked": false,
     "points": 0,
     "schema_version": 3,
     "solution": true,
     "task": false
    }
   },
   "source": [
    "ВАШ ОТВЕТ"
   ]
  },
  {
   "cell_type": "markdown",
   "metadata": {
    "deletable": false,
    "editable": false,
    "nbgrader": {
     "cell_type": "markdown",
     "checksum": "96a69edaaaab214acf38f25aaec0336b",
     "grade": false,
     "grade_id": "cell-2aac3add6dc14b23",
     "locked": true,
     "schema_version": 3,
     "solution": false,
     "task": false
    }
   },
   "source": [
    "### К задаче 3\n",
    "\n",
    "Теперь вы можете перейти к [Задаче 3: Анализ данных](Exercise-5-problem-3.ipynb)"
   ]
  }
 ],
 "metadata": {
  "anaconda-cloud": {},
  "kernelspec": {
   "display_name": "Python 3 (ipykernel)",
   "language": "python",
   "name": "python3"
  },
  "language_info": {
   "codemirror_mode": {
    "name": "ipython",
    "version": 3
   },
   "file_extension": ".py",
   "mimetype": "text/x-python",
   "name": "python",
   "nbconvert_exporter": "python",
   "pygments_lexer": "ipython3",
   "version": "3.10.12"
  }
 },
 "nbformat": 4,
 "nbformat_minor": 4
}
