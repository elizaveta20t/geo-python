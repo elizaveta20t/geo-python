{
  "cells": [
    {
      "cell_type": "markdown",
      "metadata": {
        "deletable": false,
        "editable": false,
        "nbgrader": {
          "cell_type": "markdown",
          "checksum": "a6b798e7d5b91cdbc690b4c1aad7d461",
          "grade": false,
          "grade_id": "cell-1e760a9173223eac",
          "locked": true,
          "schema_version": 3,
          "solution": false
        },
        "id": "n-A0KY1v6DVV"
      },
      "source": [
        "## Задача 1 - Получаем базовую статистику из данных\n",
        "\n",
        "В этом упражнеии ваша задача - открыть и изучить файл данных о погоде NOAA с помощью Pandas. Имя файла данных - `61532374444115dat.csv`, файл  расположен в папке «data» в этом репозитории.\n",
        "\n",
        "### Советы по выполнению упражнения\n",
        "\n",
        "- Используйте **в точности** те же имена переменных, что и в инструкциях, потому что ваши ответы будут автоматически оценены, и тесты, которые оценивают ваши ответы, зависят от того же форматирования или именования переменных, что и в инструкциях.\n",
        "\n",
        "- **Пожалуйста**,\n",
        "\n",
        "    - **Не изменяйте имена файлов**. Сделайте всю работу в файле `Exercise-5-problem-1.ipynb` (этом файле).\n",
        "    - **Не копируйте/вставляйте ячейки в этом блокноте**. Мы используем автоматизированную систему оценки, которая не будет работать, если есть копии кодовых ячеек.\n",
        "    - **Не изменяйте типы ячеек**. Вы можете добавить ячейки, но изменение типов ячеек для существующих ячеек (например, c кода на Markdown) также приведет к выходу из строя автоматизированной проверки.\n",
        "\n",
        "### Условия успешного выполнения задания\n",
        "\n",
        "- Импорт модуля Pandas\n",
        "- Чтение данных с использованием pandas в переменную «data»\n",
        "- Расчет ряда значений из файла данных, используемого в этой задаче\n",
        "- Добавление комментариев, которые объясняют, что делают большинство строк в коде\n",
        "- Отвечая на пару вопросов в конце упражнения\n",
        "- Загрузка вашего блокнота в репозиторий"
      ]
    },
    {
      "cell_type": "markdown",
      "metadata": {
        "deletable": false,
        "editable": false,
        "nbgrader": {
          "cell_type": "markdown",
          "checksum": "e315373f6c501eb07ee8f1add7786b3f",
          "grade": false,
          "grade_id": "cell-4bb9f278d7f2723a",
          "locked": true,
          "schema_version": 3,
          "solution": false,
          "task": false
        },
        "tags": [],
        "id": "CPeWyG4V6DV-"
      },
      "source": [
        "## Соглашение об использовании ИИ\n",
        "\n",
        "**Введите свое имя в ячейку ниже** чтобы подтвердить, что вы следовали [принципам курса об использовании инструментов ИИ](https://geo-python-2024.readthedocs.io/ru/latest/course-info/ai-tools.html) и понимаете, что использование инструментов ИИ считается обманом."
      ]
    },
    {
      "cell_type": "markdown",
      "metadata": {
        "deletable": false,
        "nbgrader": {
          "cell_type": "markdown",
          "checksum": "386e8aa35bd2d91146676a382a967f5c",
          "grade": true,
          "grade_id": "E5-P1-AI-LLM_statement",
          "locked": false,
          "points": 0,
          "schema_version": 3,
          "solution": true,
          "task": false
        },
        "tags": [],
        "id": "8K0UUR3j6DWE"
      },
      "source": [
        "ВАШ ОТВЕТ ЗДЕСЬ"
      ]
    },
    {
      "cell_type": "markdown",
      "metadata": {
        "deletable": false,
        "editable": false,
        "nbgrader": {
          "cell_type": "markdown",
          "checksum": "679ec0de114fb686434ddb20705630de",
          "grade": false,
          "grade_id": "cell-5f1b764c6963516b",
          "locked": true,
          "schema_version": 3,
          "solution": false,
          "task": false
        },
        "id": "_5zBbZL06DWJ"
      },
      "source": [
        "### Часть 1\n",
        "\n",
        "Ваша первая задача - импортировать pandas и прочитать файл данных.\n",
        "\n",
        "- Импортируйте модуль Pandas\n",
        "- Прочитайте данные в переменную, называемую «data», используя pandas\n",
        "\n",
        "**Подсказка**: При чтении данных вам нужно рассмотреть пару вещей:\n",
        "\n",
        "- Входной файл находится в папке «data», и вам необходимо указать относительный путь к файлу при чтении файла в Pandas\n",
        "- Значения без данных указываются с различным количеством символов `*` во входном файле. Вы можете подсказать это модулю pandas, указав следующий параметр в функции `read_csv ()`: `na_values=['*', '**', '***', '****', '*****', '******']`     "
      ]
    },
    {
      "cell_type": "code",
      "execution_count": 2,
      "metadata": {
        "deletable": false,
        "nbgrader": {
          "cell_type": "code",
          "checksum": "1bb7fb671d8536a174292f4135568a7a",
          "grade": false,
          "grade_id": "problem_1_ag_p1_read_csv",
          "locked": false,
          "schema_version": 3,
          "solution": true
        },
        "id": "wh0tKI7H6DWN"
      },
      "outputs": [],
      "source": [
        "import pandas as pd\n",
        "data = pd.read_csv(\"https://raw.githubusercontent.com/elizaveta20t/geo-python/main/6153237444115dat.csv\" , na_values=['*', '**', '***', '****', '*****', '******'])\n",
        "\n"
      ]
    },
    {
      "cell_type": "markdown",
      "metadata": {
        "deletable": false,
        "editable": false,
        "nbgrader": {
          "cell_type": "markdown",
          "checksum": "414376c4b6e7d3199c155e0cbe17b717",
          "grade": false,
          "grade_id": "cell-9bd0f6a45f7bdba8",
          "locked": true,
          "schema_version": 3,
          "solution": false,
          "task": false
        },
        "id": "vd7yfqAE6DWr"
      },
      "source": [
        "Убедитесь, что первые строки в DataFrame выглядят хорошо:"
      ]
    },
    {
      "cell_type": "code",
      "execution_count": 3,
      "metadata": {
        "deletable": false,
        "editable": false,
        "nbgrader": {
          "cell_type": "code",
          "checksum": "09c07ed4bf42c857eb8c00e0035545c2",
          "grade": true,
          "grade_id": "problem_1_ag_p1_read_csv_test",
          "locked": true,
          "points": 0.5,
          "schema_version": 3,
          "solution": false
        },
        "id": "EwJzH2YR6DWw",
        "outputId": "809522ff-ef98-4af3-a35f-d7d73d98b810",
        "colab": {
          "base_uri": "https://localhost:8080/",
          "height": 255
        }
      },
      "outputs": [
        {
          "output_type": "execute_result",
          "data": {
            "text/plain": [
              "    USAF   WBAN  YR--MODAHRMN    DIR   SPD   GUS  CLG  SKC   L   M  ...  \\\n",
              "0  28450  99999  201705010000  174.0  10.0  14.0  NaN  NaN NaN NaN  ...   \n",
              "1  28450  99999  201705010020  180.0  10.0   NaN  4.0  NaN NaN NaN  ...   \n",
              "2  28450  99999  201705010050  190.0  10.0   NaN  4.0  NaN NaN NaN  ...   \n",
              "3  28450  99999  201705010100  188.0  12.0  16.0  NaN  NaN NaN NaN  ...   \n",
              "4  28450  99999  201705010120  200.0  13.0   NaN  2.0  OBS NaN NaN  ...   \n",
              "\n",
              "      SLP    ALT    STP  MAX  MIN  PCP01  PCP06  PCP24  PCPXX    SD  \n",
              "0  1009.2    NaN  984.1  NaN  NaN    NaN    NaN    NaN    NaN  35.0  \n",
              "1     NaN  29.74    NaN  NaN  NaN    NaN    NaN    NaN    NaN   NaN  \n",
              "2     NaN  29.74    NaN  NaN  NaN    NaN    NaN    NaN    NaN   NaN  \n",
              "3  1009.1    NaN  984.0  NaN  NaN    NaN    NaN    NaN    NaN  35.0  \n",
              "4     NaN  29.74    NaN  NaN  NaN    NaN    NaN    NaN    NaN   NaN  \n",
              "\n",
              "[5 rows x 33 columns]"
            ],
            "text/html": [
              "\n",
              "  <div id=\"df-4c7b6a30-9fc0-4e9b-a608-92e872e895b9\" class=\"colab-df-container\">\n",
              "    <div>\n",
              "<style scoped>\n",
              "    .dataframe tbody tr th:only-of-type {\n",
              "        vertical-align: middle;\n",
              "    }\n",
              "\n",
              "    .dataframe tbody tr th {\n",
              "        vertical-align: top;\n",
              "    }\n",
              "\n",
              "    .dataframe thead th {\n",
              "        text-align: right;\n",
              "    }\n",
              "</style>\n",
              "<table border=\"1\" class=\"dataframe\">\n",
              "  <thead>\n",
              "    <tr style=\"text-align: right;\">\n",
              "      <th></th>\n",
              "      <th>USAF</th>\n",
              "      <th>WBAN</th>\n",
              "      <th>YR--MODAHRMN</th>\n",
              "      <th>DIR</th>\n",
              "      <th>SPD</th>\n",
              "      <th>GUS</th>\n",
              "      <th>CLG</th>\n",
              "      <th>SKC</th>\n",
              "      <th>L</th>\n",
              "      <th>M</th>\n",
              "      <th>...</th>\n",
              "      <th>SLP</th>\n",
              "      <th>ALT</th>\n",
              "      <th>STP</th>\n",
              "      <th>MAX</th>\n",
              "      <th>MIN</th>\n",
              "      <th>PCP01</th>\n",
              "      <th>PCP06</th>\n",
              "      <th>PCP24</th>\n",
              "      <th>PCPXX</th>\n",
              "      <th>SD</th>\n",
              "    </tr>\n",
              "  </thead>\n",
              "  <tbody>\n",
              "    <tr>\n",
              "      <th>0</th>\n",
              "      <td>28450</td>\n",
              "      <td>99999</td>\n",
              "      <td>201705010000</td>\n",
              "      <td>174.0</td>\n",
              "      <td>10.0</td>\n",
              "      <td>14.0</td>\n",
              "      <td>NaN</td>\n",
              "      <td>NaN</td>\n",
              "      <td>NaN</td>\n",
              "      <td>NaN</td>\n",
              "      <td>...</td>\n",
              "      <td>1009.2</td>\n",
              "      <td>NaN</td>\n",
              "      <td>984.1</td>\n",
              "      <td>NaN</td>\n",
              "      <td>NaN</td>\n",
              "      <td>NaN</td>\n",
              "      <td>NaN</td>\n",
              "      <td>NaN</td>\n",
              "      <td>NaN</td>\n",
              "      <td>35.0</td>\n",
              "    </tr>\n",
              "    <tr>\n",
              "      <th>1</th>\n",
              "      <td>28450</td>\n",
              "      <td>99999</td>\n",
              "      <td>201705010020</td>\n",
              "      <td>180.0</td>\n",
              "      <td>10.0</td>\n",
              "      <td>NaN</td>\n",
              "      <td>4.0</td>\n",
              "      <td>NaN</td>\n",
              "      <td>NaN</td>\n",
              "      <td>NaN</td>\n",
              "      <td>...</td>\n",
              "      <td>NaN</td>\n",
              "      <td>29.74</td>\n",
              "      <td>NaN</td>\n",
              "      <td>NaN</td>\n",
              "      <td>NaN</td>\n",
              "      <td>NaN</td>\n",
              "      <td>NaN</td>\n",
              "      <td>NaN</td>\n",
              "      <td>NaN</td>\n",
              "      <td>NaN</td>\n",
              "    </tr>\n",
              "    <tr>\n",
              "      <th>2</th>\n",
              "      <td>28450</td>\n",
              "      <td>99999</td>\n",
              "      <td>201705010050</td>\n",
              "      <td>190.0</td>\n",
              "      <td>10.0</td>\n",
              "      <td>NaN</td>\n",
              "      <td>4.0</td>\n",
              "      <td>NaN</td>\n",
              "      <td>NaN</td>\n",
              "      <td>NaN</td>\n",
              "      <td>...</td>\n",
              "      <td>NaN</td>\n",
              "      <td>29.74</td>\n",
              "      <td>NaN</td>\n",
              "      <td>NaN</td>\n",
              "      <td>NaN</td>\n",
              "      <td>NaN</td>\n",
              "      <td>NaN</td>\n",
              "      <td>NaN</td>\n",
              "      <td>NaN</td>\n",
              "      <td>NaN</td>\n",
              "    </tr>\n",
              "    <tr>\n",
              "      <th>3</th>\n",
              "      <td>28450</td>\n",
              "      <td>99999</td>\n",
              "      <td>201705010100</td>\n",
              "      <td>188.0</td>\n",
              "      <td>12.0</td>\n",
              "      <td>16.0</td>\n",
              "      <td>NaN</td>\n",
              "      <td>NaN</td>\n",
              "      <td>NaN</td>\n",
              "      <td>NaN</td>\n",
              "      <td>...</td>\n",
              "      <td>1009.1</td>\n",
              "      <td>NaN</td>\n",
              "      <td>984.0</td>\n",
              "      <td>NaN</td>\n",
              "      <td>NaN</td>\n",
              "      <td>NaN</td>\n",
              "      <td>NaN</td>\n",
              "      <td>NaN</td>\n",
              "      <td>NaN</td>\n",
              "      <td>35.0</td>\n",
              "    </tr>\n",
              "    <tr>\n",
              "      <th>4</th>\n",
              "      <td>28450</td>\n",
              "      <td>99999</td>\n",
              "      <td>201705010120</td>\n",
              "      <td>200.0</td>\n",
              "      <td>13.0</td>\n",
              "      <td>NaN</td>\n",
              "      <td>2.0</td>\n",
              "      <td>OBS</td>\n",
              "      <td>NaN</td>\n",
              "      <td>NaN</td>\n",
              "      <td>...</td>\n",
              "      <td>NaN</td>\n",
              "      <td>29.74</td>\n",
              "      <td>NaN</td>\n",
              "      <td>NaN</td>\n",
              "      <td>NaN</td>\n",
              "      <td>NaN</td>\n",
              "      <td>NaN</td>\n",
              "      <td>NaN</td>\n",
              "      <td>NaN</td>\n",
              "      <td>NaN</td>\n",
              "    </tr>\n",
              "  </tbody>\n",
              "</table>\n",
              "<p>5 rows × 33 columns</p>\n",
              "</div>\n",
              "    <div class=\"colab-df-buttons\">\n",
              "\n",
              "  <div class=\"colab-df-container\">\n",
              "    <button class=\"colab-df-convert\" onclick=\"convertToInteractive('df-4c7b6a30-9fc0-4e9b-a608-92e872e895b9')\"\n",
              "            title=\"Convert this dataframe to an interactive table.\"\n",
              "            style=\"display:none;\">\n",
              "\n",
              "  <svg xmlns=\"http://www.w3.org/2000/svg\" height=\"24px\" viewBox=\"0 -960 960 960\">\n",
              "    <path d=\"M120-120v-720h720v720H120Zm60-500h600v-160H180v160Zm220 220h160v-160H400v160Zm0 220h160v-160H400v160ZM180-400h160v-160H180v160Zm440 0h160v-160H620v160ZM180-180h160v-160H180v160Zm440 0h160v-160H620v160Z\"/>\n",
              "  </svg>\n",
              "    </button>\n",
              "\n",
              "  <style>\n",
              "    .colab-df-container {\n",
              "      display:flex;\n",
              "      gap: 12px;\n",
              "    }\n",
              "\n",
              "    .colab-df-convert {\n",
              "      background-color: #E8F0FE;\n",
              "      border: none;\n",
              "      border-radius: 50%;\n",
              "      cursor: pointer;\n",
              "      display: none;\n",
              "      fill: #1967D2;\n",
              "      height: 32px;\n",
              "      padding: 0 0 0 0;\n",
              "      width: 32px;\n",
              "    }\n",
              "\n",
              "    .colab-df-convert:hover {\n",
              "      background-color: #E2EBFA;\n",
              "      box-shadow: 0px 1px 2px rgba(60, 64, 67, 0.3), 0px 1px 3px 1px rgba(60, 64, 67, 0.15);\n",
              "      fill: #174EA6;\n",
              "    }\n",
              "\n",
              "    .colab-df-buttons div {\n",
              "      margin-bottom: 4px;\n",
              "    }\n",
              "\n",
              "    [theme=dark] .colab-df-convert {\n",
              "      background-color: #3B4455;\n",
              "      fill: #D2E3FC;\n",
              "    }\n",
              "\n",
              "    [theme=dark] .colab-df-convert:hover {\n",
              "      background-color: #434B5C;\n",
              "      box-shadow: 0px 1px 3px 1px rgba(0, 0, 0, 0.15);\n",
              "      filter: drop-shadow(0px 1px 2px rgba(0, 0, 0, 0.3));\n",
              "      fill: #FFFFFF;\n",
              "    }\n",
              "  </style>\n",
              "\n",
              "    <script>\n",
              "      const buttonEl =\n",
              "        document.querySelector('#df-4c7b6a30-9fc0-4e9b-a608-92e872e895b9 button.colab-df-convert');\n",
              "      buttonEl.style.display =\n",
              "        google.colab.kernel.accessAllowed ? 'block' : 'none';\n",
              "\n",
              "      async function convertToInteractive(key) {\n",
              "        const element = document.querySelector('#df-4c7b6a30-9fc0-4e9b-a608-92e872e895b9');\n",
              "        const dataTable =\n",
              "          await google.colab.kernel.invokeFunction('convertToInteractive',\n",
              "                                                    [key], {});\n",
              "        if (!dataTable) return;\n",
              "\n",
              "        const docLinkHtml = 'Like what you see? Visit the ' +\n",
              "          '<a target=\"_blank\" href=https://colab.research.google.com/notebooks/data_table.ipynb>data table notebook</a>'\n",
              "          + ' to learn more about interactive tables.';\n",
              "        element.innerHTML = '';\n",
              "        dataTable['output_type'] = 'display_data';\n",
              "        await google.colab.output.renderOutput(dataTable, element);\n",
              "        const docLink = document.createElement('div');\n",
              "        docLink.innerHTML = docLinkHtml;\n",
              "        element.appendChild(docLink);\n",
              "      }\n",
              "    </script>\n",
              "  </div>\n",
              "\n",
              "\n",
              "<div id=\"df-04f54301-a90f-4f21-aeba-d9361a43e68f\">\n",
              "  <button class=\"colab-df-quickchart\" onclick=\"quickchart('df-04f54301-a90f-4f21-aeba-d9361a43e68f')\"\n",
              "            title=\"Suggest charts\"\n",
              "            style=\"display:none;\">\n",
              "\n",
              "<svg xmlns=\"http://www.w3.org/2000/svg\" height=\"24px\"viewBox=\"0 0 24 24\"\n",
              "     width=\"24px\">\n",
              "    <g>\n",
              "        <path d=\"M19 3H5c-1.1 0-2 .9-2 2v14c0 1.1.9 2 2 2h14c1.1 0 2-.9 2-2V5c0-1.1-.9-2-2-2zM9 17H7v-7h2v7zm4 0h-2V7h2v10zm4 0h-2v-4h2v4z\"/>\n",
              "    </g>\n",
              "</svg>\n",
              "  </button>\n",
              "\n",
              "<style>\n",
              "  .colab-df-quickchart {\n",
              "      --bg-color: #E8F0FE;\n",
              "      --fill-color: #1967D2;\n",
              "      --hover-bg-color: #E2EBFA;\n",
              "      --hover-fill-color: #174EA6;\n",
              "      --disabled-fill-color: #AAA;\n",
              "      --disabled-bg-color: #DDD;\n",
              "  }\n",
              "\n",
              "  [theme=dark] .colab-df-quickchart {\n",
              "      --bg-color: #3B4455;\n",
              "      --fill-color: #D2E3FC;\n",
              "      --hover-bg-color: #434B5C;\n",
              "      --hover-fill-color: #FFFFFF;\n",
              "      --disabled-bg-color: #3B4455;\n",
              "      --disabled-fill-color: #666;\n",
              "  }\n",
              "\n",
              "  .colab-df-quickchart {\n",
              "    background-color: var(--bg-color);\n",
              "    border: none;\n",
              "    border-radius: 50%;\n",
              "    cursor: pointer;\n",
              "    display: none;\n",
              "    fill: var(--fill-color);\n",
              "    height: 32px;\n",
              "    padding: 0;\n",
              "    width: 32px;\n",
              "  }\n",
              "\n",
              "  .colab-df-quickchart:hover {\n",
              "    background-color: var(--hover-bg-color);\n",
              "    box-shadow: 0 1px 2px rgba(60, 64, 67, 0.3), 0 1px 3px 1px rgba(60, 64, 67, 0.15);\n",
              "    fill: var(--button-hover-fill-color);\n",
              "  }\n",
              "\n",
              "  .colab-df-quickchart-complete:disabled,\n",
              "  .colab-df-quickchart-complete:disabled:hover {\n",
              "    background-color: var(--disabled-bg-color);\n",
              "    fill: var(--disabled-fill-color);\n",
              "    box-shadow: none;\n",
              "  }\n",
              "\n",
              "  .colab-df-spinner {\n",
              "    border: 2px solid var(--fill-color);\n",
              "    border-color: transparent;\n",
              "    border-bottom-color: var(--fill-color);\n",
              "    animation:\n",
              "      spin 1s steps(1) infinite;\n",
              "  }\n",
              "\n",
              "  @keyframes spin {\n",
              "    0% {\n",
              "      border-color: transparent;\n",
              "      border-bottom-color: var(--fill-color);\n",
              "      border-left-color: var(--fill-color);\n",
              "    }\n",
              "    20% {\n",
              "      border-color: transparent;\n",
              "      border-left-color: var(--fill-color);\n",
              "      border-top-color: var(--fill-color);\n",
              "    }\n",
              "    30% {\n",
              "      border-color: transparent;\n",
              "      border-left-color: var(--fill-color);\n",
              "      border-top-color: var(--fill-color);\n",
              "      border-right-color: var(--fill-color);\n",
              "    }\n",
              "    40% {\n",
              "      border-color: transparent;\n",
              "      border-right-color: var(--fill-color);\n",
              "      border-top-color: var(--fill-color);\n",
              "    }\n",
              "    60% {\n",
              "      border-color: transparent;\n",
              "      border-right-color: var(--fill-color);\n",
              "    }\n",
              "    80% {\n",
              "      border-color: transparent;\n",
              "      border-right-color: var(--fill-color);\n",
              "      border-bottom-color: var(--fill-color);\n",
              "    }\n",
              "    90% {\n",
              "      border-color: transparent;\n",
              "      border-bottom-color: var(--fill-color);\n",
              "    }\n",
              "  }\n",
              "</style>\n",
              "\n",
              "  <script>\n",
              "    async function quickchart(key) {\n",
              "      const quickchartButtonEl =\n",
              "        document.querySelector('#' + key + ' button');\n",
              "      quickchartButtonEl.disabled = true;  // To prevent multiple clicks.\n",
              "      quickchartButtonEl.classList.add('colab-df-spinner');\n",
              "      try {\n",
              "        const charts = await google.colab.kernel.invokeFunction(\n",
              "            'suggestCharts', [key], {});\n",
              "      } catch (error) {\n",
              "        console.error('Error during call to suggestCharts:', error);\n",
              "      }\n",
              "      quickchartButtonEl.classList.remove('colab-df-spinner');\n",
              "      quickchartButtonEl.classList.add('colab-df-quickchart-complete');\n",
              "    }\n",
              "    (() => {\n",
              "      let quickchartButtonEl =\n",
              "        document.querySelector('#df-04f54301-a90f-4f21-aeba-d9361a43e68f button');\n",
              "      quickchartButtonEl.style.display =\n",
              "        google.colab.kernel.accessAllowed ? 'block' : 'none';\n",
              "    })();\n",
              "  </script>\n",
              "</div>\n",
              "    </div>\n",
              "  </div>\n"
            ],
            "application/vnd.google.colaboratory.intrinsic+json": {
              "type": "dataframe",
              "variable_name": "data"
            }
          },
          "metadata": {},
          "execution_count": 3
        }
      ],
      "source": [
        "data.head()"
      ]
    },
    {
      "cell_type": "markdown",
      "metadata": {
        "deletable": false,
        "editable": false,
        "nbgrader": {
          "cell_type": "markdown",
          "checksum": "87ae93ba186bd654aff0c6fd790e56dd",
          "grade": false,
          "grade_id": "cell-52993769979e9829",
          "locked": true,
          "schema_version": 3,
          "solution": false,
          "task": false
        },
        "id": "yhRz1Psv6DW4"
      },
      "source": [
        "### Часть 2\n",
        "\n",
        "В ячейке ниже заполните значения переменных, чтобы дать ответы на эти вопросы:\n",
        "\n",
        "- Сколько всего строк в данных (переменная `rows`)?\n",
        "- Какие имена столбцов (переменная `column_names`)?\n",
        "- Каковы типы данных столбцов (переменная `column_datatypes`)?"
      ]
    },
    {
      "cell_type": "code",
      "execution_count": 4,
      "metadata": {
        "deletable": false,
        "nbgrader": {
          "cell_type": "code",
          "checksum": "b81d76f8a8bf1cc4cdc32f9684e0160f",
          "grade": false,
          "grade_id": "problem_1_ag_p2_pandas_data",
          "locked": false,
          "schema_version": 3,
          "solution": true,
          "task": false
        },
        "id": "vyxHJ6ns6DW-"
      },
      "outputs": [],
      "source": [
        "#расчет количества строк\n",
        "row_count = len(data)\n",
        "#определение имени каждого столбца\n",
        "column_names = data.columns.values\n",
        "#определение типа данных каждого столбца\n",
        "column_datatypes = data.dtypes\n"
      ]
    },
    {
      "cell_type": "code",
      "execution_count": 5,
      "metadata": {
        "deletable": false,
        "editable": false,
        "nbgrader": {
          "cell_type": "code",
          "checksum": "573a3930fbed0280acd7dd2110d7d107",
          "grade": true,
          "grade_id": "problem_1_ag_p2_pandas_data_test1",
          "locked": true,
          "points": 0.1,
          "schema_version": 3,
          "solution": false
        },
        "id": "p2YOELLW6DXD",
        "outputId": "89de602f-a2a5-411b-8ff7-3a6393d163f6",
        "colab": {
          "base_uri": "https://localhost:8080/"
        }
      },
      "outputs": [
        {
          "output_type": "stream",
          "name": "stdout",
          "text": [
            "Всего 11694 строк\n"
          ]
        }
      ],
      "source": [
        "# Распечатайте количество строк в DataFrame:\n",
        "print(f\"Всего {row_count} строк\")"
      ]
    },
    {
      "cell_type": "code",
      "execution_count": 6,
      "metadata": {
        "deletable": false,
        "editable": false,
        "nbgrader": {
          "cell_type": "code",
          "checksum": "bf85dcce6e0698e2dbbe107cd94a68b3",
          "grade": true,
          "grade_id": "problem_1_ag_p2_pandas_data_test2",
          "locked": true,
          "points": 0.2,
          "schema_version": 3,
          "solution": false
        },
        "id": "kRToVaCR6DXI",
        "outputId": "31561612-14e3-4c98-d871-8d7e747e0aba",
        "colab": {
          "base_uri": "https://localhost:8080/"
        }
      },
      "outputs": [
        {
          "output_type": "stream",
          "name": "stdout",
          "text": [
            "Имена колонок: \n",
            "['USAF' 'WBAN' 'YR--MODAHRMN' 'DIR' 'SPD' 'GUS' 'CLG' 'SKC' 'L' 'M' 'H'\n",
            " 'VSB' 'MW' 'MW.1' 'MW.2' 'MW.3' 'AW' 'AW.1' 'AW.2' 'AW.3' 'W' 'TEMP'\n",
            " 'DEWP' 'SLP' 'ALT' 'STP' 'MAX' 'MIN' 'PCP01' 'PCP06' 'PCP24' 'PCPXX' 'SD']\n"
          ]
        }
      ],
      "source": [
        "# Распечатайте имена столбцов:\n",
        "print(f\"Имена колонок: \\n{column_names}\")"
      ]
    },
    {
      "cell_type": "code",
      "execution_count": 7,
      "metadata": {
        "deletable": false,
        "editable": false,
        "nbgrader": {
          "cell_type": "code",
          "checksum": "72607455d2ac012c75770bee054f09f8",
          "grade": true,
          "grade_id": "problem_1_ag_p2_pandas_data_test3",
          "locked": true,
          "points": 0.2,
          "schema_version": 3,
          "solution": false
        },
        "id": "-MnPaMpP6DXL",
        "outputId": "498fb01a-ce21-4aee-e1b6-7ee817f77c67",
        "colab": {
          "base_uri": "https://localhost:8080/"
        }
      },
      "outputs": [
        {
          "output_type": "stream",
          "name": "stdout",
          "text": [
            "Типы данных колонок: \n",
            "USAF              int64\n",
            "WBAN              int64\n",
            "YR--MODAHRMN      int64\n",
            "DIR             float64\n",
            "SPD             float64\n",
            "GUS             float64\n",
            "CLG             float64\n",
            "SKC              object\n",
            "L               float64\n",
            "M               float64\n",
            "H               float64\n",
            "VSB             float64\n",
            "MW              float64\n",
            "MW.1            float64\n",
            "MW.2            float64\n",
            "MW.3            float64\n",
            "AW              float64\n",
            "AW.1            float64\n",
            "AW.2            float64\n",
            "AW.3            float64\n",
            "W               float64\n",
            "TEMP            float64\n",
            "DEWP            float64\n",
            "SLP             float64\n",
            "ALT             float64\n",
            "STP             float64\n",
            "MAX             float64\n",
            "MIN             float64\n",
            "PCP01           float64\n",
            "PCP06           float64\n",
            "PCP24           float64\n",
            "PCPXX           float64\n",
            "SD              float64\n",
            "dtype: object\n"
          ]
        }
      ],
      "source": [
        "# Распечатайте типы данных столбцов:\n",
        "print(f\"Типы данных колонок: \\n{column_datatypes}\")"
      ]
    },
    {
      "cell_type": "markdown",
      "metadata": {
        "deletable": false,
        "editable": false,
        "nbgrader": {
          "cell_type": "markdown",
          "checksum": "8a63cde3014f140669f0407e96470fdc",
          "grade": false,
          "grade_id": "cell-084bfa64c8d7ad54",
          "locked": true,
          "schema_version": 3,
          "solution": false,
          "task": false
        },
        "id": "cOeoqniU6DXO"
      },
      "source": [
        "### Часть 3\n",
        "\n",
        "В ячейке ниже заполните значения переменных, чтобы ответить на вопросы:\n",
        "\n",
        "- Какова средняя температура по Фаренгейту в данных (переменная `temp_mean`, рассчитанная по столбцу `TEMP`)?\n",
        "- Каково стандартное отклонение максимальной температуры (переменная `temp_max_std`, рассчитанная по столбцу `MAX`)?\n",
        "- Сколько уникальных станций существует в данных (переменная `station_count`, рассчитанная по столбцу `USAF`)?"
      ]
    },
    {
      "cell_type": "code",
      "execution_count": 13,
      "metadata": {
        "deletable": false,
        "nbgrader": {
          "cell_type": "code",
          "checksum": "af2469d960da066f500cb07f3e2e27ea",
          "grade": false,
          "grade_id": "problem_1_ag_p3_basic_statistics",
          "locked": false,
          "schema_version": 3,
          "solution": true
        },
        "id": "1ySLAuNJ6DXQ"
      },
      "outputs": [],
      "source": [
        "# Рассчитайте среднюю температуру\n",
        "temp_mean = data[\"TEMP\"].mean()\n",
        "\n",
        "# Рассчитайте стандартное отклонение максимальной температуры:\n",
        "temp_max_std = data[\"MAX\"].std()\n",
        "\n",
        "# Рассчитайте количество уникальных станций:\n",
        "station_count = len(data[\"USAF\"].unique())\n"
      ]
    },
    {
      "cell_type": "code",
      "execution_count": 10,
      "metadata": {
        "deletable": false,
        "editable": false,
        "nbgrader": {
          "cell_type": "code",
          "checksum": "150191344d5b0b5dcd9718247250091c",
          "grade": true,
          "grade_id": "problem_1_ag_p3_basic_statistics_test1",
          "locked": true,
          "points": 0.3,
          "schema_version": 3,
          "solution": false
        },
        "id": "1JGScR5j6DXU",
        "outputId": "9598aebe-b1c4-4477-bc4e-1813a4b0f58e",
        "colab": {
          "base_uri": "https://localhost:8080/"
        }
      },
      "outputs": [
        {
          "output_type": "stream",
          "name": "stdout",
          "text": [
            "Средняя температура в Фаренгейтах 52.2\n"
          ]
        }
      ],
      "source": [
        "# Выведите среднее значение температуры на экран\n",
        "print(f\"Средняя температура в Фаренгейтах {round(temp_mean,1)}\")"
      ]
    },
    {
      "cell_type": "code",
      "execution_count": 11,
      "metadata": {
        "deletable": false,
        "editable": false,
        "nbgrader": {
          "cell_type": "code",
          "checksum": "3384f078cc932aa2e22b423268e1a262",
          "grade": true,
          "grade_id": "problem_1_ag_p3_basic_statistics_test2",
          "locked": true,
          "points": 0.3,
          "schema_version": 3,
          "solution": false
        },
        "id": "KBFmhxuu6DXW",
        "outputId": "03279433-640f-4ab8-a901-a80f8de1fe4a",
        "colab": {
          "base_uri": "https://localhost:8080/"
        }
      },
      "outputs": [
        {
          "output_type": "stream",
          "name": "stdout",
          "text": [
            "Стандартное отклонение максимальной температуры: 10.3\n"
          ]
        }
      ],
      "source": [
        "# Выведите значение стандартного отклонения\n",
        "print(f\"Стандартное отклонение максимальной температуры: {round(temp_max_std, 1)}\")"
      ]
    },
    {
      "cell_type": "code",
      "execution_count": 14,
      "metadata": {
        "deletable": false,
        "editable": false,
        "nbgrader": {
          "cell_type": "code",
          "checksum": "2ab9de0679771441fa2f4dc599986884",
          "grade": true,
          "grade_id": "problem_1_ag_p3_basic_statistics_test",
          "locked": true,
          "points": 0.4,
          "schema_version": 3,
          "solution": false
        },
        "id": "mDcnGmto6DXZ",
        "outputId": "88690990-eb34-4b17-a2bc-07e23a4433e8",
        "colab": {
          "base_uri": "https://localhost:8080/"
        }
      },
      "outputs": [
        {
          "output_type": "stream",
          "name": "stdout",
          "text": [
            "Количество уникальных станций: 2\n"
          ]
        }
      ],
      "source": [
        "# Выведите количество станций\n",
        "print(f\"Количество уникальных станций: {station_count}\")"
      ]
    },
    {
      "cell_type": "markdown",
      "metadata": {
        "deletable": false,
        "editable": false,
        "nbgrader": {
          "cell_type": "markdown",
          "checksum": "c5985c5e78fe907f9c6b54c2b134841b",
          "grade": false,
          "grade_id": "cell-f3ebf436af20e19d",
          "locked": true,
          "schema_version": 3,
          "solution": false,
          "task": false
        },
        "id": "j3e8iCZo6DXb"
      },
      "source": [
        "### Итоги решения задачи 1\n",
        "\n",
        "Были ли у вас проблемы с решением?\n",
        "\n",
        "Убедись что:\n",
        "\n",
        "- Убедитесь, что ваш код включает информативные комментарии, объясняющие, что делает ваш код\n",
        "- Опубликуйте свои изменения в репозиторий для упражнения 5\n",
        "\n",
        "Пожалуйста, напишите свои ответы и комментарии ниже (**активировать ячейку двойным щелчком**)."
      ]
    },
    {
      "cell_type": "code",
      "execution_count": null,
      "metadata": {
        "id": "tPFGfjKj6DXd"
      },
      "outputs": [],
      "source": []
    },
    {
      "cell_type": "code",
      "execution_count": null,
      "metadata": {
        "id": "1HOgH2Ju6DXf"
      },
      "outputs": [],
      "source": []
    },
    {
      "cell_type": "markdown",
      "metadata": {
        "deletable": false,
        "nbgrader": {
          "cell_type": "markdown",
          "checksum": "6fe20aad593946c95bf5f152d560375b",
          "grade": true,
          "grade_id": "problem_1_mg_p4_questions",
          "locked": false,
          "points": 0,
          "schema_version": 3,
          "solution": true,
          "task": false
        },
        "id": "VOW0W__i6DXf"
      },
      "source": [
        "Ваш ответ здесь"
      ]
    },
    {
      "cell_type": "markdown",
      "metadata": {
        "deletable": false,
        "editable": false,
        "nbgrader": {
          "cell_type": "markdown",
          "checksum": "d83d3441649eb0a83657cbf9b30a0825",
          "grade": false,
          "grade_id": "cell-37aec3470db70bf0",
          "locked": true,
          "schema_version": 3,
          "solution": false,
          "task": false
        },
        "id": "l-gNJ6PJ6DXh"
      },
      "source": [
        "### К задаче 2\n",
        "\n",
        "Теперь вы можете продолжить с [Задачей 2: Обработка и выбор данных](Exercise-5-problem-2.ipynb)"
      ]
    }
  ],
  "metadata": {
    "anaconda-cloud": {},
    "kernelspec": {
      "display_name": "Python 3 (ipykernel)",
      "language": "python",
      "name": "python3"
    },
    "language_info": {
      "codemirror_mode": {
        "name": "ipython",
        "version": 3
      },
      "file_extension": ".py",
      "mimetype": "text/x-python",
      "name": "python",
      "nbconvert_exporter": "python",
      "pygments_lexer": "ipython3",
      "version": "3.10.12"
    },
    "colab": {
      "provenance": []
    }
  },
  "nbformat": 4,
  "nbformat_minor": 0
}