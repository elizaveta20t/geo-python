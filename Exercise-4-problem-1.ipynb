{
 "cells": [
  {
   "cell_type": "markdown",
   "metadata": {
    "deletable": false,
    "editable": false,
    "nbgrader": {
     "cell_type": "markdown",
     "checksum": "caa2ea7fc99727e5336028aa16e01fef",
     "grade": false,
     "grade_id": "cell-2ed044cb8a3a375f",
     "locked": true,
     "schema_version": 3,
     "solution": false
    }
   },
   "source": [
    "## Задача 1 - простой температурный калькулятор\n",
    "\n",
    "В первой задаче ваша цель состоит в том, чтобы создать функцию, которая преобразует входную температуру из градусов по Фаренгейту в градусы по Цельсию. Формула преобразования из Фаренгейта в Цельсия можно найти ниже.\n",
    "\n",
    "\\begin{equation}\n",
    "  \\Large\n",
    "  T_{\\mathrm{Celsius}} = \\left( T_{\\mathrm{Fahrenheit}} - 32 \\right) / 1.8\n",
    "\\end{equation}\n",
    "\n",
    "Если все в вашем скрипте работает должным образом, должен работать следующий тестовый пример:\n",
    "\n",
    "```python\n",
    ">>> print(f\"32 градуса по Фаренгейту равны {fahr_to_celsius(32)} градусам по Цельсию.\")\n",
    "32 градуса по Фаренгейту равны 0,0 градусам по Цельсию.\n",
    "```\n",
    "\n",
    "Для этой задачи вам нужно будет изменить приведенные ниже блоки кода и добавить код для получения желаемых результатов.\n",
    "\n",
    "### Советы по выполнению упражнения\n",
    "\n",
    "- Используйте **в точности** те же имена переменных, что и в инструкциях, потому что ваши ответы будут автоматически оценены, и тесты, которые оценивают ваши ответы, зависят от того же форматирования или именования переменных, что и в инструкциях.\n",
    "\n",
    "- **Пожалуйста**,\n",
    "\n",
    "    - **Не изменяйте имена файлов**. Сделайте все свое редактирование в файле `Exercise-4-зкщидуь-1.ipynb` (этом файле).\n",
    "    - **Не копируйте/вставляйте ячейки в этом блокноте**. Мы используем автоматизированную систему оценки, которая не будет работать, если есть копии кодовых ячеек.\n",
    "    - **Не изменяйте типы ячеек**. Вы можете добавить ячейки, но изменение типов ячеек для существующих ячеек (например, c кода на Markdown) также приведет к выходу из строя автоматизированной проверки.\n",
    "\n",
    "### Условия успешного выполнения задания\n",
    "\n",
    "- Создание функции `fahr_to_celsius`\n",
    "- Определение функции для одного входного параметра `temp_fahrenheit`\n",
    "- Создание переменной `converted_temp` внутри функции, которой вы должны назначить результат преобразования (то есть входная температура по Фаренгейту, преобразованная в градусы по Цельсию)\n",
    "- Возвращение преобразованного значения из функции обратно пользователю\n",
    "- Ответы на вопросы о функциях в конце этого задания\n",
    "- Добавление комментариев в ваш код и написание блока Docstring, который объясняет, как использовать вашу функцию `fahr_to_celsius` (то есть, описание назначения функции, параметров и возвращаемых значений)\n",
    "- Загрузка вашего блокнота в репозиторий"
   ]
  },
  {
   "cell_type": "markdown",
   "metadata": {
    "deletable": false,
    "editable": false,
    "nbgrader": {
     "cell_type": "markdown",
     "checksum": "14bdaf8e9bd0c896901e8d73e830a008",
     "grade": false,
     "grade_id": "cell-f416c5dfd64455db",
     "locked": true,
     "schema_version": 3,
     "solution": false,
     "task": false
    }
   },
   "source": [
    "## Соглашение об использовании ИИ\n",
    "\n",
    "**Введите свое имя в ячейку ниже** чтобы подтвердить, что вы следовали [принципам курса об использовании инструментов ИИ](https://geo-python-2024.readthedocs.io/ru/latest/course-info/ai-tools.html) и понимаете, что использование инструментов ИИ считается обманом."
   ]
  },
  {
   "cell_type": "markdown",
   "metadata": {
    "deletable": false,
    "nbgrader": {
     "cell_type": "markdown",
     "checksum": "3c8a9968f7fb5709fbd72f3debe4d97c",
     "grade": true,
     "grade_id": "E4-P1-AI-LLM_statement",
     "locked": false,
     "points": 0,
     "schema_version": 3,
     "solution": true,
     "task": false
    },
    "tags": []
   },
   "source": [
    "Ваш ответ"
   ]
  },
  {
   "cell_type": "markdown",
   "metadata": {
    "deletable": false,
    "editable": false,
    "nbgrader": {
     "cell_type": "markdown",
     "checksum": "2dcdfbc8868d669dd70551c33ede0bcb",
     "grade": false,
     "grade_id": "cell-80d0265678c1a6d5",
     "locked": true,
     "schema_version": 3,
     "solution": false,
     "task": false
    }
   },
   "source": [
    "## Часть 1\n",
    "\n",
    "Создайте функцию в ячейке ниже, чтобы преобразовать температуры из Фаренгейта в Цельсий.\n",
    "\n",
    "- Функция должна называться `fahr_to_celsius`\n",
    "- У неё должен быть один параметр, вызванный `temp_fahrenheit`\n",
    "- Она должна возвращать одно значение: преобразованную температуру\n",
    "- Вы должны добавить комментарии и Docstring"
   ]
  },
  {
   "cell_type": "code",
   "execution_count": null,
   "metadata": {
    "deletable": false,
    "nbgrader": {
     "cell_type": "code",
     "checksum": "d748fcb7f3573530c4affddd7cf9b4ce",
     "grade": false,
     "grade_id": "problem_1_ag_p1_fahr_to_celsius",
     "locked": false,
     "schema_version": 3,
     "solution": true
    }
   },
   "outputs": [],
   "source": [
    "# Ваш код здесь\n",
    "raise NotImplementedError()"
   ]
  },
  {
   "cell_type": "markdown",
   "metadata": {
    "deletable": false,
    "editable": false,
    "nbgrader": {
     "cell_type": "markdown",
     "checksum": "734de0902a2450fb26f44ee1176cc399",
     "grade": false,
     "grade_id": "cell-b6841605e2c1a46e",
     "locked": true,
     "schema_version": 3,
     "solution": false,
     "task": false
    }
   },
   "source": [
    "Используйте свою недавно созданную функцию, чтобы вывести ответы на следующие вопросы:"
   ]
  },
  {
   "cell_type": "code",
   "execution_count": null,
   "metadata": {},
   "outputs": [],
   "source": [
    "# 1. Сколько будет 48° по Фаренгейту в Цельсиях?\n",
    "\n",
    "# 2. Как насчет 71° Фаренгейту в Цельсиях?\n"
   ]
  },
  {
   "cell_type": "markdown",
   "metadata": {
    "deletable": false,
    "editable": false,
    "nbgrader": {
     "cell_type": "markdown",
     "checksum": "3a14953357711b5c74641da7ebb0d995",
     "grade": false,
     "grade_id": "cell-e931ae7f1d35850e",
     "locked": true,
     "schema_version": 3,
     "solution": false
    }
   },
   "source": [
    "### Проверки для задачи 1\n",
    "\n",
    "Запустите кодовые ячейки ниже, чтобы проверить свой ответ. Обратите внимание, что не допускается изменять тестовые ячейки. Ваше решение формально верное, если вы не видите ошибок при запуске этих ячеек. Если вы видите ошибку, вам нужно что-то поправить в ячейках с кодом выше."
   ]
  },
  {
   "cell_type": "code",
   "execution_count": null,
   "metadata": {
    "deletable": false,
    "editable": false,
    "nbgrader": {
     "cell_type": "code",
     "checksum": "d83ed9b66a6afaec31d95158113dc9b0",
     "grade": true,
     "grade_id": "problem_1_ag_p1_fahr_to_celsius_test1",
     "locked": true,
     "points": 1,
     "schema_version": 3,
     "solution": false
    }
   },
   "outputs": [],
   "source": [
    "import inspect\n",
    "\n",
    "# Проверка что функция существует\n",
    "assert inspect.isfunction(fahr_to_celsius), 'Fahr_to_celsius should be a function.'"
   ]
  },
  {
   "cell_type": "code",
   "execution_count": null,
   "metadata": {
    "deletable": false,
    "editable": false,
    "nbgrader": {
     "cell_type": "code",
     "checksum": "0e1f2f94103a45c27662dd10e4757982",
     "grade": true,
     "grade_id": "problem_1_ag_p1_fahr_to_celsius_test2",
     "locked": true,
     "points": 0.5,
     "schema_version": 3,
     "solution": false
    }
   },
   "outputs": [],
   "source": [
    "# Убедитесь, что функция имеет один параметр, а имя параметра верно\n",
    "params = list(inspect.signature(fahr_to_celsius).parameters.keys())\n",
    "assert len(params) == 1, 'The function should have one parameter'\n",
    "assert params[0] == 'temp_fahrenheit', 'The parameter name should be \"temp_fahrenheit\".'"
   ]
  },
  {
   "cell_type": "code",
   "execution_count": null,
   "metadata": {
    "deletable": false,
    "editable": false,
    "nbgrader": {
     "cell_type": "code",
     "checksum": "a0f93065ba93def516a5c0f811313de3",
     "grade": true,
     "grade_id": "problem_1_ag_p1_fahr_to_celsius_test3",
     "locked": true,
     "points": 0.5,
     "schema_version": 3,
     "solution": false
    }
   },
   "outputs": [],
   "source": [
    "# Убедитесь, что функция дает правильные ответы для:\n",
    "# 1. Сколько будет 48° по Фаренгейту в Цельсиях?\n",
    "assert round(fahr_to_celsius(48), 2) == 8.89"
   ]
  },
  {
   "cell_type": "code",
   "execution_count": null,
   "metadata": {
    "deletable": false,
    "editable": false,
    "nbgrader": {
     "cell_type": "code",
     "checksum": "0e5e0f68775b940438359aa1869c6b4a",
     "grade": true,
     "grade_id": "problem_1_ag_p1_fahr_to_celsius_test4",
     "locked": true,
     "points": 0.5,
     "schema_version": 3,
     "solution": false
    }
   },
   "outputs": [],
   "source": [
    "# 2. Сколько будет 71° Фаренгейту в Цельсиях?\n",
    "assert round(fahr_to_celsius(71), 2) == 21.67"
   ]
  },
  {
   "cell_type": "markdown",
   "metadata": {
    "deletable": false,
    "editable": false,
    "nbgrader": {
     "cell_type": "markdown",
     "checksum": "f11c88768b52fc0d7ca2035b745b135d",
     "grade": false,
     "grade_id": "problem1_questions",
     "locked": true,
     "schema_version": 3,
     "solution": false
    }
   },
   "source": [
    "### Проверьте свой код\n",
    "\n",
    "- Убедитесь, что вы использовали заданные имена переменных\n",
    "- Убедитесь, что вы добавили необходимые комментарии в свой код\n",
    "- Убедитесь, что у вашей функции есть Docstring, который описывает, что она делает"
   ]
  },
  {
   "cell_type": "markdown",
   "metadata": {
    "deletable": false,
    "editable": false,
    "nbgrader": {
     "cell_type": "markdown",
     "checksum": "e7c502c11be4f92d28892f526af499c0",
     "grade": false,
     "grade_id": "cell-307870d9327c8b1b",
     "locked": true,
     "schema_version": 3,
     "solution": false,
     "task": false
    }
   },
   "source": [
    "## Часть 2 \n",
    "\n",
    "Ответьте на следующие вопросы.\n",
    "\n",
    "1. Вам ясна концепция функции? Если нет, то что не до конца понятно?\n",
    "2. Каковы преимущества использования функций?\n",
    "  \n",
    "Напишите свои ответы ниже (**активируйте ячейку двойным щелчком**)."
   ]
  },
  {
   "cell_type": "markdown",
   "metadata": {
    "deletable": false,
    "nbgrader": {
     "cell_type": "markdown",
     "checksum": "4ebd3825c6047bba6de4d16c118b6d17",
     "grade": true,
     "grade_id": "problem_1_mg_p2_answers",
     "locked": false,
     "points": 0.5,
     "schema_version": 3,
     "solution": true
    }
   },
   "source": [
    "Ваш ответ здесь"
   ]
  },
  {
   "cell_type": "markdown",
   "metadata": {
    "deletable": false,
    "editable": false,
    "nbgrader": {
     "cell_type": "markdown",
     "checksum": "63fba1d962a91f14cf4854d27e8b2f01",
     "grade": false,
     "grade_id": "cell-91ada5e742fd8669",
     "locked": true,
     "schema_version": 3,
     "solution": false
    }
   },
   "source": [
    "#### Готово!\n",
    "\n",
    "Теперь вы готовы продолжить с [задачей 2](Exercise-4-problem-2.ipynb)."
   ]
  }
 ],
 "metadata": {
  "kernelspec": {
   "display_name": "Python 3 (ipykernel)",
   "language": "python",
   "name": "python3"
  },
  "language_info": {
   "codemirror_mode": {
    "name": "ipython",
    "version": 3
   },
   "file_extension": ".py",
   "mimetype": "text/x-python",
   "name": "python",
   "nbconvert_exporter": "python",
   "pygments_lexer": "ipython3",
   "version": "3.10.12"
  }
 },
 "nbformat": 4,
 "nbformat_minor": 4
}
