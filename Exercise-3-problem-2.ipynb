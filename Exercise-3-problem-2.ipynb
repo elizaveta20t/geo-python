{
 "cells": [
  {
   "cell_type": "markdown",
   "metadata": {
    "deletable": false,
    "editable": false,
    "nbgrader": {
     "cell_type": "markdown",
     "checksum": "5120ddff83293c0277cd76ddc5d18790",
     "grade": false,
     "grade_id": "cell-c0c00a79becb8149",
     "locked": true,
     "schema_version": 3,
     "solution": false,
     "task": false
    }
   },
   "source": [
    "## Задача 2 - классификация температуры\n",
    "\n",
    "### Обзор\n",
    "\n",
    "Эта задача знакомит вас с очень распространенной и полезной концепцией классификации данных.\n",
    "Ваша цель состоит в том, чтобы классифицировать ежедневные температуры (в градусах по Цельсию), хранящиеся в списке `temperatures` на четыре разных класса:\n",
    "\n",
    "- **Cold**: Температура менее -2 С\n",
    "- **Slippery**: Температуры, равные или выше -2 С, но менее +2 С\n",
    "- **Comfortable**: Температуры, равные или выше, чем +2 С, но менее +15 С\n",
    "- **Warm**: Температуры, равные или выше, чем +15 С\n",
    "\n",
    "Чтобы решить эту проблему, вы должны изменить и заполнить недостающие строки кода.\n",
    "\n",
    "### Советы по выполнению упражнения\n",
    "\n",
    "- Используйте **в точности** те же имена переменных, что и в инструкциях, потому что ваши ответы будут автоматически оценены, и тесты, которые оценивают ваши ответы, зависят от того же форматирования или именования переменных, что и в инструкциях.\n",
    "\n",
    "- **Пожалуйста**,\n",
    "\n",
    "    - **Не изменяйте имена файлов**. Сделайте все свое редактирование в файле `Exercise-2.ipynb` (этом файле).\n",
    "    - **Не копируйте/вставляйте ячейки в этом блокноте**. Мы используем автоматизированную систему оценки, которая не будет работать, если есть копии кодовых ячеек.\n",
    "    - **Не изменяйте типы ячеек**. Вы можете добавить ячейки, но изменение типов ячеек для существующих ячеек (например, c кода на Markdown) также приведет к выходу из строя автоматизированной проверки.\n",
    "\n",
    "### Условия успешного выполнения задания\n",
    "\n",
    " - Использование цикла `for` для прохода по значениям температуры\n",
    " - Использование условных операторов, чтобы выяснить, находится ли значение в определенном диапазоне значений (классе)\n",
    " - Вывод информации для пользователя\n",
    " - Ответы на вопросы в конце задания\n",
    " - Загрузка вашего блокнота в репозиторий"
   ]
  },
  {
   "cell_type": "markdown",
   "metadata": {
    "deletable": false,
    "editable": false,
    "nbgrader": {
     "cell_type": "markdown",
     "checksum": "4b4867d1a9d212713973073a6ab6f010",
     "grade": false,
     "grade_id": "cell-f3cc766f9a80e6ae",
     "locked": true,
     "schema_version": 3,
     "solution": false,
     "task": false
    },
    "tags": []
   },
   "source": [
    "## Соглашение об использовании ИИ\n",
    "\n",
    "**Введите свое имя в ячейку ниже** чтобы подтвердить, что вы следовали [принципам курса об использовании инструментов ИИ](https://geo-python-2024.readthedocs.io/ru/latest/course-info/ai-tools.html) и понимаете, что использование инструментов ИИ считается обманом."
   ]
  },
  {
   "cell_type": "markdown",
   "metadata": {
    "deletable": false,
    "nbgrader": {
     "cell_type": "markdown",
     "checksum": "0a7b64660da6bdd56f18cf9e67c14e25",
     "grade": true,
     "grade_id": "E3-P2-AI-LLM_statement",
     "locked": false,
     "points": 0,
     "schema_version": 3,
     "solution": true,
     "task": false
    },
    "tags": []
   },
   "source": [
    "Ваш ответ здесь"
   ]
  },
  {
   "cell_type": "markdown",
   "metadata": {
    "deletable": false,
    "editable": false,
    "nbgrader": {
     "cell_type": "markdown",
     "checksum": "d8496122516f8d49c11321a55ae40f11",
     "grade": false,
     "grade_id": "cell-ea6af1904d783269",
     "locked": true,
     "schema_version": 3,
     "solution": false
    }
   },
   "source": [
    "## Описание данных\n",
    "\n",
    "Данные по этой задаче включают список ночных, дневных и вечерних температур за апрель 2013 года, зафиксированные в аэропорту Хельсинки Мальми. Список содержит 90 значений, поскольку есть 3 значения для каждого дня (а апрель имеет 30 дней). Первое значение данного дня представляет собой ночь, второе - дневное время, а третья - для вечерней температуры."
   ]
  },
  {
   "cell_type": "code",
   "execution_count": null,
   "metadata": {
    "deletable": false,
    "editable": false,
    "nbgrader": {
     "cell_type": "code",
     "checksum": "25a39203024a788fe4c532454c5b74ff",
     "grade": false,
     "grade_id": "cell-ecd9721955db9637",
     "locked": true,
     "schema_version": 3,
     "solution": false
    }
   },
   "outputs": [],
   "source": [
    "temperatures = [-5.4, 1.0, -1.3, -4.8, 3.9, 0.1, -4.4, 4.0, -2.2, -3.9, 4.4,\n",
    "                -2.5, -4.6, 5.1, 2.1, -2.4, 1.9, -3.3, -4.8, 1.0, -0.8, -2.8,\n",
    "                -0.1, -4.7, -5.6, 2.6, -2.7, -4.6, 3.4, -0.4, -0.9, 3.1, 2.4,\n",
    "                1.6, 4.2, 3.5, 2.6, 3.1, 2.2, 1.8, 3.3, 1.6, 1.5, 4.7, 4.0,\n",
    "                3.6, 4.9, 4.8, 5.3, 5.6, 4.1, 3.7, 7.6, 6.9, 5.1, 6.4, 3.8,\n",
    "                4.0, 8.6, 4.1, 1.4, 8.9, 3.0, 1.6, 8.5, 4.7, 6.6, 8.1, 4.5,\n",
    "                4.8, 11.3, 4.7, 5.2, 11.5, 6.2, 2.9, 4.3, 2.8, 2.8, 6.3, 2.6,\n",
    "                -0.0, 7.3, 3.4, 4.7, 9.3, 6.4, 5.4, 7.6, 5.2]"
   ]
  },
  {
   "cell_type": "markdown",
   "metadata": {
    "deletable": false,
    "editable": false,
    "nbgrader": {
     "cell_type": "markdown",
     "checksum": "ca10ac65eec150200b2c26fb8b63c051",
     "grade": false,
     "grade_id": "cell-762b7d4f3ec9210d",
     "locked": true,
     "schema_version": 3,
     "solution": false
    }
   },
   "source": [
    "### Часть 1 \n",
    "\n",
    "- Создайте четыре пустых списка для различных классов температуры:\n",
    "\n",
    "    - `cold`\n",
    "    - `slippery`\n",
    "    - `comfortable`\n",
    "    - `warm`\n",
    "  \n",
    "Обязательно используйте эти **точные** имена переменных для ваших списков."
   ]
  },
  {
   "cell_type": "code",
   "execution_count": null,
   "metadata": {
    "deletable": false,
    "nbgrader": {
     "cell_type": "code",
     "checksum": "777e9d360cf566831338b62472f70e69",
     "grade": false,
     "grade_id": "problem_2_ag_p1_temp_lists",
     "locked": false,
     "schema_version": 3,
     "solution": true
    }
   },
   "outputs": [],
   "source": [
    "# Ваш код здесь\n",
    "raise NotImplementedError()"
   ]
  },
  {
   "cell_type": "code",
   "execution_count": null,
   "metadata": {
    "deletable": false,
    "editable": false,
    "nbgrader": {
     "cell_type": "code",
     "checksum": "80e68b07a255852fb45563ce42b81d99",
     "grade": true,
     "grade_id": "problem_2_ag_p1_temp_lists_test1",
     "locked": true,
     "points": 0.5,
     "schema_version": 3,
     "solution": false
    }
   },
   "outputs": [],
   "source": [
    "# Тестовый вывод для всех списков (на данный момент они должны быть пустыми)\n",
    "print(cold, slippery, comfortable, warm)"
   ]
  },
  {
   "cell_type": "markdown",
   "metadata": {
    "deletable": false,
    "editable": false,
    "nbgrader": {
     "cell_type": "markdown",
     "checksum": "2a2326a8231866086533b5359a2faa3b",
     "grade": false,
     "grade_id": "cell-15c382eeab374716",
     "locked": true,
     "schema_version": 3,
     "solution": false
    }
   },
   "source": [
    "### Часть 2\n",
    "\n",
    "Пройдите по данным температуры и отнесите значения к различным классам, определенным ниже:\n",
    "\n",
    "- **Cold**: Температуры менее -2 С\n",
    "- **Slippery**: Температуры, равные или выше -2 С, но менее +2 С\n",
    "- **Comfortable**: Температуры, равные или выше, чем +2 С, но менее +15 С\n",
    "- **Warm**: Температуры, равные или выше, чем +15 С"
   ]
  },
  {
   "cell_type": "code",
   "execution_count": null,
   "metadata": {
    "deletable": false,
    "nbgrader": {
     "cell_type": "code",
     "checksum": "d7058b98aa6a8610bd0948c025e4bdae",
     "grade": false,
     "grade_id": "problem_2_ag_p2_temp_classes",
     "locked": false,
     "schema_version": 3,
     "solution": true
    }
   },
   "outputs": [],
   "source": [
    "# Ваш код здесь\n",
    "raise NotImplementedError()"
   ]
  },
  {
   "cell_type": "code",
   "execution_count": null,
   "metadata": {
    "deletable": false,
    "editable": false,
    "nbgrader": {
     "cell_type": "code",
     "checksum": "455cad8de5129bdd71e8fc618c55fbae",
     "grade": true,
     "grade_id": "problem_2_ag_p2_temp_classes_test1",
     "locked": true,
     "points": 2,
     "schema_version": 3,
     "solution": false
    }
   },
   "outputs": [],
   "source": [
    "# Тестовый вывод для всех списков (теперь они должны содержать значения)\n",
    "print(cold, slippery, comfortable, warm)\n"
   ]
  },
  {
   "cell_type": "markdown",
   "metadata": {
    "deletable": false,
    "editable": false,
    "nbgrader": {
     "cell_type": "markdown",
     "checksum": "c9d0a40eab1998a6afab976433c1ac55",
     "grade": false,
     "grade_id": "cell-1126e21066f72de8",
     "locked": true,
     "schema_version": 3,
     "solution": false
    }
   },
   "source": [
    "### Часть 3\n",
    "\n",
    "Пожалуйста, ответьте на следующие вопросы, изменяя ячейки Python ниже:\n",
    "\n",
    "- Сколько раз была скользкая погода на протяжении периода измерений температуры?"
   ]
  },
  {
   "cell_type": "code",
   "execution_count": null,
   "metadata": {
    "deletable": false,
    "nbgrader": {
     "cell_type": "code",
     "checksum": "5b83b7d982318df856e8c3ea7869d668",
     "grade": false,
     "grade_id": "problem_2_ag_p3_slippery_times",
     "locked": false,
     "schema_version": 3,
     "solution": true
    }
   },
   "outputs": [],
   "source": [
    "# Отредактируйте переменную, чтобы вывести правильный ответ\n",
    "slippery_times = 'XXX'\n",
    "\n",
    "# Ваш код здесь\n",
    "raise NotImplementedError()"
   ]
  },
  {
   "cell_type": "code",
   "execution_count": null,
   "metadata": {
    "deletable": false,
    "editable": false,
    "nbgrader": {
     "cell_type": "code",
     "checksum": "91fbb329aa91e9c1505183aa5fa3d880",
     "grade": true,
     "grade_id": "problem_2_ag_p3_slippery_times_test1",
     "locked": true,
     "points": 0.5,
     "schema_version": 3,
     "solution": false
    }
   },
   "outputs": [],
   "source": [
    "# Вывод ответа на экран\n",
    "print(f\"В апреле 2013 года было скользко {slippery_times} раз.\")"
   ]
  },
  {
   "cell_type": "markdown",
   "metadata": {
    "deletable": false,
    "editable": false,
    "nbgrader": {
     "cell_type": "markdown",
     "checksum": "d1fa64ea2fba9b3dd2f8af04e78ed7a5",
     "grade": false,
     "grade_id": "cell-373794962a4894e5",
     "locked": true,
     "schema_version": 3,
     "solution": false
    }
   },
   "source": [
    "\n",
    "- Сколько раз было тепло на протяжении периода измерений температуры?"
   ]
  },
  {
   "cell_type": "code",
   "execution_count": null,
   "metadata": {
    "deletable": false,
    "nbgrader": {
     "cell_type": "code",
     "checksum": "2c6abaaac46f1f56e69eaf97649cbd29",
     "grade": false,
     "grade_id": "problem_2_ag_p3_warm_times",
     "locked": false,
     "schema_version": 3,
     "solution": true
    }
   },
   "outputs": [],
   "source": [
    "# Отредактируйте переменную, чтобы найти правильный ответ\n",
    "warm_times = 'XXX'\n",
    "\n",
    "# Ваш код здесь\n",
    "raise NotImplementedError()"
   ]
  },
  {
   "cell_type": "code",
   "execution_count": null,
   "metadata": {
    "deletable": false,
    "editable": false,
    "nbgrader": {
     "cell_type": "code",
     "checksum": "15c6d24826d6420c6402c4d5201b6750",
     "grade": true,
     "grade_id": "problem_2_ag_p3_warm_times_test1",
     "locked": true,
     "points": 0.5,
     "schema_version": 3,
     "solution": false
    }
   },
   "outputs": [],
   "source": [
    "# Вывод ответа на экран\n",
    "print(f\"В апреле 2013 года было тепло {warm_times} раз.\")"
   ]
  },
  {
   "cell_type": "markdown",
   "metadata": {
    "deletable": false,
    "editable": false,
    "nbgrader": {
     "cell_type": "markdown",
     "checksum": "5938f30a95b356c97a0a43bf86304669",
     "grade": false,
     "grade_id": "cell-b107b9404240484f",
     "locked": true,
     "schema_version": 3,
     "solution": false
    }
   },
   "source": [
    "- Сколько раз было холодно на протяжении периода измерений температуры?"
   ]
  },
  {
   "cell_type": "code",
   "execution_count": null,
   "metadata": {
    "deletable": false,
    "nbgrader": {
     "cell_type": "code",
     "checksum": "17991d76bae4682005457d6aa0a01858",
     "grade": false,
     "grade_id": "problem_2_ag_p3_cold_times",
     "locked": false,
     "schema_version": 3,
     "solution": true
    }
   },
   "outputs": [],
   "source": [
    "# Отредактируйте переменную, чтобы найти правильный ответ\n",
    "cold_times = 'XXX'\n",
    "\n",
    "# Ваш код здесь\n",
    "raise NotImplementedError()"
   ]
  },
  {
   "cell_type": "code",
   "execution_count": null,
   "metadata": {
    "deletable": false,
    "editable": false,
    "nbgrader": {
     "cell_type": "code",
     "checksum": "12caf19ff9d27fbefa2482c6349046c9",
     "grade": true,
     "grade_id": "problem_2_ag_p3_cold_times_test1",
     "locked": true,
     "points": 0.5,
     "schema_version": 3,
     "solution": false
    }
   },
   "outputs": [],
   "source": [
    "# Вывод ответа на экран\n",
    "print(f\"В апреле 2013 года было холодно {cold_times} раз.\")"
   ]
  },
  {
   "cell_type": "markdown",
   "metadata": {
    "deletable": false,
    "editable": false,
    "nbgrader": {
     "cell_type": "markdown",
     "checksum": "9ec340dacfee95845bb1cb982cde2fad",
     "grade": false,
     "grade_id": "cell-5608b79175d15ce2",
     "locked": true,
     "schema_version": 3,
     "solution": false
    }
   },
   "source": [
    "### Часть 4\n",
    "\n",
    "Ниже несколько вопросов, чтобы убедиться, что вы усвоили материал. Пожалуйста, ответьте кратко, в нескольких предложениях, используя ячейку Markdown ниже.\n",
    "\n",
    "Вы также можете написать любые отзывы или вопросы, касающиеся этого упражнения.\n",
    "\n",
    "1. Является ли концепция условных выражений понятной для вас? Если нет, то что вызывает затруднения?\n",
    "2. Вы добавили комментарии к своему кода? Если нет, пожалуйста, добавьте сейчас :)\n",
    "  \n",
    "Напишите свои ответы ниже (дважды щелкните, чтобы активировать и редактировать ячейку ниже)."
   ]
  },
  {
   "cell_type": "markdown",
   "metadata": {
    "deletable": false,
    "nbgrader": {
     "cell_type": "markdown",
     "checksum": "b7f659283744163ded10ba6c02cda90c",
     "grade": true,
     "grade_id": "problem_2_mg_p4_style_assessment",
     "locked": false,
     "points": 0,
     "schema_version": 3,
     "solution": true
    }
   },
   "source": [
    "Ваш ответ здесь"
   ]
  },
  {
   "cell_type": "markdown",
   "metadata": {
    "deletable": false,
    "editable": false,
    "nbgrader": {
     "cell_type": "markdown",
     "checksum": "73370a8ce79a0eb3199b2f48289964c0",
     "grade": false,
     "grade_id": "cell-90b7b78e0445d159",
     "locked": true,
     "schema_version": 3,
     "solution": false
    }
   },
   "source": [
    "### Готово!\n",
    "\n",
    "Продолжайте работу над [заданием 3](Exercise-3-problem-3.ipynb)."
   ]
  }
 ],
 "metadata": {
  "anaconda-cloud": {},
  "kernelspec": {
   "display_name": "Python 3 (ipykernel)",
   "language": "python",
   "name": "python3"
  },
  "language_info": {
   "codemirror_mode": {
    "name": "ipython",
    "version": 3
   },
   "file_extension": ".py",
   "mimetype": "text/x-python",
   "name": "python",
   "nbconvert_exporter": "python",
   "pygments_lexer": "ipython3",
   "version": "3.10.12"
  }
 },
 "nbformat": 4,
 "nbformat_minor": 4
}
