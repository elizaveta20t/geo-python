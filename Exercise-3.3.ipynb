{
  "cells": [
    {
      "cell_type": "markdown",
      "metadata": {
        "deletable": false,
        "editable": false,
        "nbgrader": {
          "cell_type": "markdown",
          "checksum": "30dc459cddf9133c14f06cc0adad1fbf",
          "grade": false,
          "grade_id": "cell-5c68af490e1d2129",
          "locked": true,
          "schema_version": 3,
          "solution": false
        },
        "id": "4at0R9T0PL6X"
      },
      "source": [
        "## Задача 3 - Поиск локаций\n",
        "\n",
        "### Обзор\n",
        "\n",
        "На карте ниже показаны местоположение метеорологических станций в Финляндии (синие точки), существующих более 70 лет. [1].\n",
        "В этой проблеме мы хотим выяснить, была ли сеть станций в равной степени распределена по Финляндии\n",
        "семьдесят лет назад. Мы разделили Финляндию на четыре географические зоны (Северо-Запад, Северо-Восток, Юго-Запад, Юго-Восток) в соответствии с приблизительной центральной точкой материковой части Финляндии, расположенной по координатам `26.3, 64.5` (долгота, широта в десятичных градусах).\n",
        "\n",
        "![FMI stations](https://github.com/elizaveta20t/geo-python/blob/main/img/FMI_stations_70_years_older.png?raw=1)\n",
        "\n",
        "[1]: Места и возраст станций погоды взяты с ресурса: http://en.ilmatieteenlaitos.fi/observation-stations\n",
        "\n",
        "Ниже мы приводим координаты из 34 погодных станций.\n",
        "Расположение отдельной станции определяется парой координат: широта и долгота.\n",
        "Координаты всех станций разделены на два списка (`lat` и` lon`), а имена станций находятся в списке `stations`. Из этих списков вы получите  местоположение первой станции, объединив координаты широты и долготы из списков координат, и название этой станции из списка `stations` в индексе `0`.\n",
        "\n",
        "### Задача\n",
        "\n",
        "В этой задаче вам надо напечатать названия станций погоды, расположенных в разных зонах. **При желании**, вы также можете сообщить о проценте метеорологических станций в каждой из зон, чтобы оценить степень покрытия территорий станциями наблюдения 70 лет назад. Эта необязательная задача не влияет на ваш счет по этой проблеме.\n",
        "\n",
        "Чтобы решить эту проблему, вы должны изменить и заполнить недостающие части в ячейках ниже.\n",
        "\n",
        "### Советы по выполнению упражнения\n",
        "\n",
        "- Используйте **в точности** те же имена переменных, что и в инструкциях, потому что ваши ответы будут автоматически оценены, и тесты, которые оценивают ваши ответы, зависят от того же форматирования или именования переменных, что и в инструкциях.\n",
        "\n",
        "- **Пожалуйста**,\n",
        "\n",
        "    - **Не изменяйте имена файлов**. Сделайте все свое редактирование в файле `Exercise-2.ipynb` (этом файле).\n",
        "    - **Не копируйте/вставляйте ячейки в этом блокноте**. Мы используем автоматизированную систему оценки, которая не будет работать, если есть копии кодовых ячеек.\n",
        "    - **Не изменяйте типы ячеек**. Вы можете добавить ячейки, но изменение типов ячеек для существующих ячеек (например, c кода на Markdown) также приведет к выходу из строя автоматизированной проверки.\n",
        "\n",
        "### Условия успешного выполнения задания\n",
        "\n",
        "- Создание четырех списков для географических зон в Финляндии: `nort_west`, `north_east`, `south_west`, и `south_east`\n",
        "- Итерация по значениям и определение того, в какой географической зоне находится станция\n",
        "    - Подсказка: вы должны создать цикл, который отрабатывает `n` раз. Создайте переменную *`n`*, которая должна содержать количество станций.\n",
        "    - Вам нужно использовать условное выражение, чтобы определить:\n",
        "        - лежит ли широта станции к северу/югу от центральной точки Финляндии (`26.3, 64.5`)\n",
        "        - долгота станции по отношению к западу/востоку от этой точки.\n",
        "    - Вы должны вставить название станции в соответствующий список географической зоны\n",
        "- Вывести на экран названия станций в каждой географической зоне"
      ]
    },
    {
      "cell_type": "markdown",
      "metadata": {
        "deletable": false,
        "editable": false,
        "nbgrader": {
          "cell_type": "markdown",
          "checksum": "a8422d759c130cdee6b1f2874363d159",
          "grade": false,
          "grade_id": "cell-74fa879c3b75c6b0",
          "locked": true,
          "schema_version": 3,
          "solution": false,
          "task": false
        },
        "id": "UPu8S7DgPL68"
      },
      "source": [
        "## Соглашение об использовании ИИ\n",
        "\n",
        "**Введите свое имя в ячейку ниже** чтобы подтвердить, что вы следовали [принципам курса об использовании инструментов ИИ](https://geo-python-2024.readthedocs.io/ru/latest/course-info/ai-tools.html) и понимаете, что использование инструментов ИИ считается обманом."
      ]
    },
    {
      "cell_type": "markdown",
      "metadata": {
        "deletable": false,
        "nbgrader": {
          "cell_type": "markdown",
          "checksum": "ca5171ab408cd40b040449cbfbc12b89",
          "grade": true,
          "grade_id": "E3-P3-AI-LLM_statement",
          "locked": false,
          "points": 0,
          "schema_version": 3,
          "solution": true,
          "task": false
        },
        "tags": [],
        "id": "4bJ0krMePL7C"
      },
      "source": [
        "Ваш ответ здесь"
      ]
    },
    {
      "cell_type": "markdown",
      "metadata": {
        "deletable": false,
        "editable": false,
        "nbgrader": {
          "cell_type": "markdown",
          "checksum": "a9c414a2b7d5b67ace0d0b3b4c71c5b6",
          "grade": false,
          "grade_id": "cell-5c0a48bd858489b8",
          "locked": true,
          "schema_version": 3,
          "solution": false
        },
        "id": "lAD301KoPL7H"
      },
      "source": [
        "## Данные\n",
        "\n",
        "Ниже приведены данные, которые вы должны использовать для решения задачи 3 (запустите ячейку для записи значений в память)."
      ]
    },
    {
      "cell_type": "code",
      "execution_count": 32,
      "metadata": {
        "deletable": false,
        "editable": false,
        "nbgrader": {
          "cell_type": "code",
          "checksum": "dbe4140e5913699f7487be22e490b39f",
          "grade": false,
          "grade_id": "cell-888d0ee752aed9d0",
          "locked": true,
          "schema_version": 3,
          "solution": false
        },
        "id": "BkEnZMbZPL7K"
      },
      "outputs": [],
      "source": [
        "# Названия станций\n",
        "stations = ['Hanko Russarö', 'Heinola Asemantaus', 'Helsinki Kaisaniemi',\n",
        "            'Helsinki Malmi airfield', 'Hyvinkää Hyvinkäänkylä', 'Joutsa Savenaho',\n",
        "            'Juuka Niemelä', 'Jyväskylä airport', 'Kaarina Yltöinen', 'Kauhava airfield',\n",
        "            'Kemi Kemi-Tornio airport', 'Kotka Rankki', 'Kouvola Anjala',\n",
        "            'Kouvola Utti airport', 'Kuopio Maaninka', 'Kuusamo airport',\n",
        "            'Lieksa Lampela', 'Mustasaari Valassaaret', 'Parainen Utö', 'Pori airport',\n",
        "            'Rovaniemi Apukka', 'Salo Kärkkä', 'Savonlinna Punkaharju Laukansaari',\n",
        "            'Seinäjoki Pelmaa', 'Siikajoki Ruukki', 'Siilinjärvi Kuopio airport',\n",
        "            'Tohmajärvi Kemie', 'Utsjoki Nuorgam', 'Vaala Pelso', 'Vaasa airport',\n",
        "            'Vesanto Sonkari', 'Vieremä Kaarakkala', 'Vihti Maasoja', 'Ylitornio Meltosjärvi']\n",
        "\n",
        "# Координаты щироты  погодных станций\n",
        "lats = [59.77, 61.2, 60.18, 60.25, 60.6, 61.88, 63.23, 62.4,\n",
        "       60.39, 63.12, 65.78, 60.38, 60.7, 60.9, 63.14, 65.99,\n",
        "       63.32, 63.44, 59.78, 61.47, 66.58, 60.37, 61.8, 62.94,\n",
        "       64.68, 63.01, 62.24, 70.08, 64.501, 63.06, 62.92, 63.84,\n",
        "       60.42, 66.53]\n",
        "\n",
        "# Координаты долготы погодных станций\n",
        "lons = [22.95, 26.05, 24.94, 25.05, 24.8, 26.09, 29.23, 25.67,\n",
        "       22.55, 23.04, 24.58, 26.96, 26.81, 26.95, 27.31, 29.23,\n",
        "       30.05, 21.07, 21.37, 21.79, 26.01, 23.11, 29.32, 22.49,\n",
        "       25.09, 27.8, 30.35, 27.9, 26.42, 21.75, 26.42, 27.22,\n",
        "       24.4, 24.65]\n",
        "\n",
        "# Координаты, которые соответствуют центру финского материка\n",
        "# Север–Юг\n",
        "north_south_cutoff = 64.5\n",
        "\n",
        "# Восток-Запад\n",
        "east_west_cutoff = 26.3"
      ]
    },
    {
      "cell_type": "markdown",
      "metadata": {
        "deletable": false,
        "editable": false,
        "nbgrader": {
          "cell_type": "markdown",
          "checksum": "c1b15c071da222a9ca87476ac7a6baee",
          "grade": false,
          "grade_id": "cell-58b0a649f63e9d38",
          "locked": true,
          "schema_version": 3,
          "solution": false
        },
        "id": "0fp7L9b6PL7a"
      },
      "source": [
        "### Часть 1\n",
        "\n",
        "- Создайте четыре пустых списка для географических зон в Финляндии. Используйте **именно** эти имена переменных:\n",
        "   - `north_west`\n",
        "   - `north_east`\n",
        "   - `south_west`\n",
        "   - `south_east`"
      ]
    },
    {
      "cell_type": "code",
      "execution_count": 33,
      "metadata": {
        "deletable": false,
        "nbgrader": {
          "cell_type": "code",
          "checksum": "bb76f9cfd25ed98e99072314f59097a5",
          "grade": false,
          "grade_id": "problem_3_ag_p1_geo_zones",
          "locked": false,
          "schema_version": 3,
          "solution": true
        },
        "id": "ch5D38UuPL7g"
      },
      "outputs": [],
      "source": [
        "# создание пустых списков\n",
        "north_west = []\n",
        "north_east = []\n",
        "south_west = []\n",
        "south_east = []"
      ]
    },
    {
      "cell_type": "code",
      "execution_count": 34,
      "metadata": {
        "deletable": false,
        "editable": false,
        "nbgrader": {
          "cell_type": "code",
          "checksum": "b766e47b1852af4640480e5fd2eac01e",
          "grade": true,
          "grade_id": "problem_3_ag_p1_geo_zones_test1",
          "locked": true,
          "points": 0.5,
          "schema_version": 3,
          "solution": false
        },
        "id": "FpjzoGOUPL7n",
        "outputId": "de5bbe56-28ef-4273-b9d6-1de80b705a7c",
        "colab": {
          "base_uri": "https://localhost:8080/"
        }
      },
      "outputs": [
        {
          "output_type": "stream",
          "name": "stdout",
          "text": [
            "[] []\n"
          ]
        }
      ],
      "source": [
        "# Это тестовый вывод на экран\n",
        "print(north_west, south_west)\n"
      ]
    },
    {
      "cell_type": "markdown",
      "metadata": {
        "deletable": false,
        "editable": false,
        "nbgrader": {
          "cell_type": "markdown",
          "checksum": "da12c555c2c6f4d6558f23b90e7df5fe",
          "grade": false,
          "grade_id": "cell-8fbea85320420b00",
          "locked": true,
          "schema_version": 3,
          "solution": false
        },
        "id": "i2FBzoMqPL7s"
      },
      "source": [
        "### Часть 2\n",
        "\n",
        "- Подсчитайте общее количество станций и сохраните это значение в переменной `n`."
      ]
    },
    {
      "cell_type": "code",
      "execution_count": 35,
      "metadata": {
        "deletable": false,
        "nbgrader": {
          "cell_type": "code",
          "checksum": "65bf512f27403a124f2b3a3b9689a54e",
          "grade": false,
          "grade_id": "problem_3_ag_p2_station_count",
          "locked": false,
          "schema_version": 3,
          "solution": true
        },
        "id": "QLSWHTy4PL7w",
        "outputId": "a83b125c-e422-4d85-c5ed-8268d3a09d3b",
        "colab": {
          "base_uri": "https://localhost:8080/"
        }
      },
      "outputs": [
        {
          "output_type": "stream",
          "name": "stdout",
          "text": [
            "34\n"
          ]
        }
      ],
      "source": [
        "# создание переменной n\n",
        "n = len(stations)\n",
        "print(n)"
      ]
    },
    {
      "cell_type": "code",
      "execution_count": 36,
      "metadata": {
        "deletable": false,
        "editable": false,
        "nbgrader": {
          "cell_type": "code",
          "checksum": "cf09a6caa084fbedce72bd815489a6d5",
          "grade": true,
          "grade_id": "problem_3_ag_p2_station_count_test1",
          "locked": true,
          "points": 0.5,
          "schema_version": 3,
          "solution": false
        },
        "id": "enLjzjqSPL7z",
        "outputId": "7d0149f7-d909-46f7-9245-65b6d92da802",
        "colab": {
          "base_uri": "https://localhost:8080/"
        }
      },
      "outputs": [
        {
          "output_type": "stream",
          "name": "stdout",
          "text": [
            "В наборе данных 34 станций.\n"
          ]
        }
      ],
      "source": [
        "# Сколько у нас станций?\n",
        "print(f\"В наборе данных {n} станций.\")"
      ]
    },
    {
      "cell_type": "markdown",
      "metadata": {
        "deletable": false,
        "editable": false,
        "nbgrader": {
          "cell_type": "markdown",
          "checksum": "75df142f1963df6673e972f62a96b430",
          "grade": false,
          "grade_id": "cell-86baf64c3b574d9a",
          "locked": true,
          "schema_version": 3,
          "solution": false
        },
        "id": "dy5s5JZGPL72"
      },
      "source": [
        "### Часть 3\n",
        "\n",
        "- Сделайте цикл, которая проходит `n` раз и относит станции к разным географическим зонам на основе их координат."
      ]
    },
    {
      "cell_type": "code",
      "execution_count": 37,
      "metadata": {
        "deletable": false,
        "nbgrader": {
          "cell_type": "code",
          "checksum": "524aaa474d18a0a90254509328875ec9",
          "grade": false,
          "grade_id": "problem_3_ag_p3_allocate_stations",
          "locked": false,
          "schema_version": 3,
          "solution": true
        },
        "id": "ckaaT_ErPL73"
      },
      "outputs": [],
      "source": [
        "# создание цикла c распределением станций по 4 зонам относительно Финляндии\n",
        "for i in range(0, n):\n",
        "  if lats[i] > north_south_cutoff and lons[i] < east_west_cutoff:\n",
        "    north_west.append(stations[i])\n",
        "  elif lats[i] > north_south_cutoff and lons[i] > east_west_cutoff:\n",
        "    north_east.append(stations[i])\n",
        "  elif lats[i] < north_south_cutoff and lons[i] < east_west_cutoff:\n",
        "    south_west.append(stations[i])\n",
        "  else:\n",
        "    south_east.append(stations[i])"
      ]
    },
    {
      "cell_type": "markdown",
      "metadata": {
        "deletable": false,
        "editable": false,
        "nbgrader": {
          "cell_type": "markdown",
          "checksum": "3d507090fb68d8cf14076355c887c0f5",
          "grade": false,
          "grade_id": "cell-f448b8ec4ea497ba",
          "locked": true,
          "schema_version": 3,
          "solution": false
        },
        "id": "aMKWUr9TPL75"
      },
      "source": [
        "### Часть 4\n",
        "\n",
        "- В следующих ячейках вы должны распечатать правильные названия станций для каждой географической зоны.\n",
        "    - Мы дали вам правильное количество станций в каждой зоне в качестве подсказки."
      ]
    },
    {
      "cell_type": "code",
      "execution_count": 38,
      "metadata": {
        "deletable": false,
        "editable": false,
        "nbgrader": {
          "cell_type": "code",
          "checksum": "0b9c2165c6c8f5dd5764ed126d9bb834",
          "grade": true,
          "grade_id": "problem_3_ag_p4_allocate_stations_test_nw",
          "locked": true,
          "points": 0.5,
          "schema_version": 3,
          "solution": false
        },
        "id": "SWWZ-a34PL77",
        "outputId": "48180f04-13e8-4682-83b1-2c05843f3428",
        "colab": {
          "base_uri": "https://localhost:8080/"
        }
      },
      "outputs": [
        {
          "output_type": "stream",
          "name": "stdout",
          "text": [
            "Названия северо-западных станций:\n",
            "['Kemi Kemi-Tornio airport', 'Rovaniemi Apukka', 'Siikajoki Ruukki', 'Ylitornio Meltosjärvi']\n"
          ]
        }
      ],
      "source": [
        "# Этот тестовый вывод должен распечатать названия станций на северо-западе\n",
        "# Подсказка: в этом классе должно быть 4 станции\n",
        "print(f\"Названия северо-западных станций:\\n{north_west}\")"
      ]
    },
    {
      "cell_type": "code",
      "execution_count": 39,
      "metadata": {
        "deletable": false,
        "editable": false,
        "nbgrader": {
          "cell_type": "code",
          "checksum": "6e22de1b3cad3e2be31ef06a350f1d54",
          "grade": true,
          "grade_id": "problem_3_ag_p4_allocate_stations_test_ne",
          "locked": true,
          "points": 0.5,
          "schema_version": 3,
          "solution": false
        },
        "id": "DLRqCpRUPL79",
        "outputId": "139c7bb4-0ebf-49cc-beb6-d5c6a042bfb7",
        "colab": {
          "base_uri": "https://localhost:8080/"
        }
      },
      "outputs": [
        {
          "output_type": "stream",
          "name": "stdout",
          "text": [
            "Названия северо-восточных станций:\n",
            "['Kuusamo airport', 'Utsjoki Nuorgam', 'Vaala Pelso']\n"
          ]
        }
      ],
      "source": [
        "# Этот тестовый вывод должен распечатать названия станций на северо-востоке\n",
        "# Подсказка: в этом классе должно быть 3 станции\n",
        "print(f\"Названия северо-восточных станций:\\n{north_east}\")"
      ]
    },
    {
      "cell_type": "code",
      "execution_count": 40,
      "metadata": {
        "deletable": false,
        "editable": false,
        "nbgrader": {
          "cell_type": "code",
          "checksum": "2d0d3b8de82684c2994487190a05cf65",
          "grade": true,
          "grade_id": "problem_3_ag_p4_allocate_stations_test_sw",
          "locked": true,
          "points": 0.5,
          "schema_version": 3,
          "solution": false
        },
        "id": "vaGVIcJyPL7_",
        "outputId": "ee877790-da3d-494d-867d-9bcc3a35a830",
        "colab": {
          "base_uri": "https://localhost:8080/"
        }
      },
      "outputs": [
        {
          "output_type": "stream",
          "name": "stdout",
          "text": [
            "Названия юго-западных станций:\n",
            "['Hanko Russarö', 'Heinola Asemantaus', 'Helsinki Kaisaniemi', 'Helsinki Malmi airfield', 'Hyvinkää Hyvinkäänkylä', 'Joutsa Savenaho', 'Jyväskylä airport', 'Kaarina Yltöinen', 'Kauhava airfield', 'Mustasaari Valassaaret', 'Parainen Utö', 'Pori airport', 'Salo Kärkkä', 'Seinäjoki Pelmaa', 'Vaasa airport', 'Vihti Maasoja']\n"
          ]
        }
      ],
      "source": [
        "# Этот тестовый вывод должен распечатать названия станций на юго-западе\n",
        "# Подсказка: в этом классе должно быть 16 станций\n",
        "print(f\"Названия юго-западных станций:\\n{south_west}\")"
      ]
    },
    {
      "cell_type": "code",
      "execution_count": 41,
      "metadata": {
        "deletable": false,
        "editable": false,
        "nbgrader": {
          "cell_type": "code",
          "checksum": "66f821505606f28187e14325f4480f58",
          "grade": true,
          "grade_id": "problem_3_ag_p4_allocate_stations_test_se",
          "locked": true,
          "points": 0.5,
          "schema_version": 3,
          "solution": false
        },
        "id": "0YHizbWFPL8B",
        "outputId": "fc49de64-150e-4d6d-ea0f-31d1f1ffbb3a",
        "colab": {
          "base_uri": "https://localhost:8080/"
        }
      },
      "outputs": [
        {
          "output_type": "stream",
          "name": "stdout",
          "text": [
            "Названия юго-восточных станций:\n",
            "['Juuka Niemelä', 'Kotka Rankki', 'Kouvola Anjala', 'Kouvola Utti airport', 'Kuopio Maaninka', 'Lieksa Lampela', 'Savonlinna Punkaharju Laukansaari', 'Siilinjärvi Kuopio airport', 'Tohmajärvi Kemie', 'Vesanto Sonkari', 'Vieremä Kaarakkala']\n"
          ]
        }
      ],
      "source": [
        "# Этот тестовый вывод должен распечатать названия станций на юго-востоке\n",
        "# Подсказка: в этом классе должно быть 11 станций\n",
        "print(f\"Названия юго-восточных станций:\\n{south_east}\")"
      ]
    },
    {
      "cell_type": "markdown",
      "metadata": {
        "deletable": false,
        "editable": false,
        "nbgrader": {
          "cell_type": "markdown",
          "checksum": "e53b54d77f27f58ebfbbebb4ea9a35c7",
          "grade": false,
          "grade_id": "cell-76781d52bc8f568f",
          "locked": true,
          "schema_version": 3,
          "solution": false
        },
        "id": "1VhaIjeXPL8D"
      },
      "source": [
        "### Часть 5\n",
        "\n",
        "Ниже несколько вопросов, чтобы убедиться, что вы усвоили материал. Пожалуйста, ответьте кратко, в нескольких предложениях, используя ячейку Markdown ниже.\n",
        "\n",
        "Вы также можете написать любые отзывы или вопросы, касающиеся этого упражнения.\n",
        "\n",
        "1. Понятна ли вам концепция использования оператора `and` и разница между условными выражениями `if`,` elif` и `else`? Если нет, то что вызвало затруднения?\n",
        "2. Вы добавили комментарии к своему кода? Если нет, пожалуйста, добавьте сейчас :)\n",
        "  \n",
        "Напишите свои ответы ниже (дважды щелкните, чтобы активировать и редактировать ячейку ниже)."
      ]
    },
    {
      "cell_type": "markdown",
      "source": [
        "В целом понятно, но было трудновато"
      ],
      "metadata": {
        "id": "KN71d_DAtZhs"
      }
    },
    {
      "cell_type": "markdown",
      "metadata": {
        "deletable": false,
        "nbgrader": {
          "cell_type": "markdown",
          "checksum": "8dbb92dc2d67c5c172560786ec580985",
          "grade": true,
          "grade_id": "problem_3_mg_p5_style_assessment",
          "locked": false,
          "points": 1,
          "schema_version": 3,
          "solution": true
        },
        "id": "4QmuUTdePL8E"
      },
      "source": [
        "Ваш ответ здесь"
      ]
    },
    {
      "cell_type": "markdown",
      "metadata": {
        "deletable": false,
        "editable": false,
        "nbgrader": {
          "cell_type": "markdown",
          "checksum": "55fb2c02ec5ce264f1e955b1e07640cf",
          "grade": false,
          "grade_id": "cell-d4b559885f7f59c2",
          "locked": true,
          "schema_version": 3,
          "solution": false
        },
        "id": "w30IfgNWPL8F"
      },
      "source": [
        "### Часть 6 (*опционально*)\n",
        "\n",
        "- Распечатайте процент станций в каждой географической зоне\n",
        "    - Запишите ответы в переменные:\n",
        "        - `north_west_share`\n",
        "        - `north_east_share`\n",
        "        - `south_west_share`\n",
        "        - `south_east_share`"
      ]
    },
    {
      "cell_type": "code",
      "execution_count": 46,
      "metadata": {
        "deletable": false,
        "nbgrader": {
          "cell_type": "code",
          "checksum": "fafcffbc8c1618382934bff39c963099",
          "grade": false,
          "grade_id": "problem_3_ag_p6_station_percentage",
          "locked": false,
          "schema_version": 3,
          "solution": true
        },
        "id": "-YiKxWX5PL8H"
      },
      "outputs": [],
      "source": [
        "north_west_share = len(north_west) /n * 100\n",
        "north_east_share = len(north_east) / n * 100\n",
        "south_west_share = len(south_west) / n * 100\n",
        "south_east_share = len(south_east) / n * 100"
      ]
    },
    {
      "cell_type": "markdown",
      "metadata": {
        "deletable": false,
        "editable": false,
        "nbgrader": {
          "cell_type": "markdown",
          "checksum": "25a2354980cc4b20ac74cb038f6ff70f",
          "grade": false,
          "grade_id": "cell-0b1ab3acecf88dc2",
          "locked": true,
          "schema_version": 3,
          "solution": false
        },
        "id": "7h6z9znOPL8I"
      },
      "source": [
        "- Выведите результаты в следующем формате: «Северо-запад содержит 99 % всех станций». (Это пример, не правильный ответ)"
      ]
    },
    {
      "cell_type": "code",
      "execution_count": 47,
      "metadata": {
        "deletable": false,
        "editable": false,
        "nbgrader": {
          "cell_type": "code",
          "checksum": "66646df443c891222e0a4e97b8724a88",
          "grade": true,
          "grade_id": "problem_3_ag_p6_station_percentage_test1",
          "locked": true,
          "points": 0,
          "schema_version": 3,
          "solution": false
        },
        "id": "YjBwlGlnPL8J",
        "outputId": "42b0f63f-2dee-4150-b8d7-714cfedbafde",
        "colab": {
          "base_uri": "https://localhost:8080/"
        }
      },
      "outputs": [
        {
          "output_type": "stream",
          "name": "stdout",
          "text": [
            "Северо-запад содержит 12% всех станций.\n",
            "Северо-восток содержит 9% всех станций.\n",
            "Юго-запад содержит 47% всех станций.\n",
            "Юго-восто содержит 32% всех станций.\n"
          ]
        }
      ],
      "source": [
        "# Выведите информацию (вам не нужно ее изменять)\n",
        "# Обратите внимание, что мы здесь используем F-строки\n",
        "# .0f окружает десятичные значения до целых чисел\n",
        "print(f\"Северо-запад содержит {north_west_share:.0f}% всех станций.\")\n",
        "print(f\"Северо-восток содержит {north_east_share:.0f}% всех станций.\")\n",
        "print(f\"Юго-запад содержит {south_west_share:.0f}% всех станций.\")\n",
        "print(f\"Юго-восто содержит {south_east_share:.0f}% всех станций.\")\n"
      ]
    },
    {
      "cell_type": "markdown",
      "metadata": {
        "deletable": false,
        "editable": false,
        "nbgrader": {
          "cell_type": "markdown",
          "checksum": "5f76ffe0e86dc86104b970cae69049a8",
          "grade": false,
          "grade_id": "cell-3f9de2a687973d48",
          "locked": true,
          "schema_version": 3,
          "solution": false
        },
        "id": "ZZLYIh_XPL8K"
      },
      "source": [
        "### Готово!\n",
        "\n",
        "Вот и все! Теперь вы закончили все задания на эту неделю!\n",
        "\n",
        "Если вы хотите, вы можете продолжить с *необязательной* (но увлекательной!) [задачей 4](Exercise-3-problem-4.ipynb)."
      ]
    }
  ],
  "metadata": {
    "kernelspec": {
      "display_name": "Python 3 (ipykernel)",
      "language": "python",
      "name": "python3"
    },
    "language_info": {
      "codemirror_mode": {
        "name": "ipython",
        "version": 3
      },
      "file_extension": ".py",
      "mimetype": "text/x-python",
      "name": "python",
      "nbconvert_exporter": "python",
      "pygments_lexer": "ipython3",
      "version": "3.10.12"
    },
    "colab": {
      "provenance": []
    }
  },
  "nbformat": 4,
  "nbformat_minor": 0
}