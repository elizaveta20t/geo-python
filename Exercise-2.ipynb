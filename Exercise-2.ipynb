{
  "cells": [
    {
      "cell_type": "markdown",
      "metadata": {
        "id": "view-in-github",
        "colab_type": "text"
      },
      "source": [
        "<a href=\"https://colab.research.google.com/github/elizaveta20t/geo-python/blob/main/Exercise-2.ipynb\" target=\"_parent\"><img src=\"https://colab.research.google.com/assets/colab-badge.svg\" alt=\"Open In Colab\"/></a>"
      ]
    },
    {
      "cell_type": "markdown",
      "metadata": {
        "deletable": false,
        "editable": false,
        "nbgrader": {
          "cell_type": "markdown",
          "checksum": "45f0e4f0945ae3265f5b25da23748071",
          "grade": false,
          "grade_id": "cell-577a4204893ab1a5",
          "locked": true,
          "schema_version": 3,
          "solution": false
        },
        "id": "B6QWJH0PaX8q"
      },
      "source": [
        "# Упражнение 2 - списки и индексы\n",
        "\n",
        "Упражнение, чтобы помочь вам лучше понять списки в Python и отработать изменения в файлах с помощью Git. Вы также познакомитесь с синтаксисом Markdown.\n",
        "\n",
        "## Заметки об упражнении\n",
        "\n",
        "- Ячейки кода на Python, где вы должны вносить изменения. Вы должны удалить этот текст и заменить его своим решением, чтобы выполнить задание.\n",
        "\n",
        "    ```Python\n",
        "\n",
        "    # Ваш код здесь\n",
        "    raise NotImplementedError()\n",
        "    \n",
        "    ```\n",
        "    \n",
        "- Ячейки разметки Markdown, где вы должны вносить изменения, содержат поясняющий текст\n",
        "\n",
        "    ```text\n",
        "    \n",
        "    Ваш ответ здесь\n",
        "    ```\n",
        "    \n",
        "- Некоторые из ячеек в этом блокнок Jupyter – «только для чтения», и вы не можете их редактировать.\n",
        "- Некоторые из ячеек с кодом содержат тесты. Если эти тесты не проходят (то есть вы видите сообщение об ошибке), вы знаете, что с вашим кодом все еще что-то не так.\n",
        "\n",
        "### Советы по выполнению упражнения\n",
        "\n",
        "- Используйте **в точности** те же имена переменных, что и в инструкциях, потому что ваши ответы будут автоматически оценены, и тесты, которые оценивают ваши ответы, зависят от того же форматирования или именования переменных, что и в инструкциях.\n",
        "\n",
        "- **Пожалуйста**,\n",
        "\n",
        "    - **Не изменяйте имена файлов**. Сделайте все свое редактирование в файле `Exercise-2.ipynb` (этом файле).\n",
        "    - **Не копируйте/вставляйте ячейки в этом блокноте**. Мы используем автоматизированную систему оценки, которая не будет работать, если есть копии кодовых ячеек.\n",
        "    - **Не изменяйте типы ячеек**. Вы можете добавить ячейки, но изменение типов ячеек для существующих ячеек (например, c кода на Markdown) также приведет к выходу из строя автоматизированной проверки."
      ]
    },
    {
      "cell_type": "markdown",
      "metadata": {
        "deletable": false,
        "editable": false,
        "nbgrader": {
          "cell_type": "markdown",
          "checksum": "5aed46883eb7c63525992bcc28650a0a",
          "grade": false,
          "grade_id": "cell-1ed1c4a09d14d2e3",
          "locked": true,
          "schema_version": 3,
          "solution": false,
          "task": false
        },
        "tags": [],
        "id": "84I0nEyUaX9A"
      },
      "source": [
        "## Соглашение об использовании ИИ\n",
        "\n",
        "**Введите свое имя в ячейку ниже** чтобы подтвердить, что вы следовали [принципам курса об использовании инструментов ИИ](https://geo-python-2024.readthedocs.io/ru/latest/course-info/ai-tools.html) и понимаете, что использование инструментов ИИ считается обманом."
      ]
    },
    {
      "cell_type": "markdown",
      "metadata": {
        "deletable": false,
        "nbgrader": {
          "cell_type": "markdown",
          "checksum": "4bf1792def96077b38161f120b7fe3e2",
          "grade": true,
          "grade_id": "AI-LLM_statement",
          "locked": false,
          "points": 0,
          "schema_version": 3,
          "solution": true,
          "task": false
        },
        "tags": [],
        "id": "MtExH7lIaX9E"
      },
      "source": [
        "Илья Б."
      ]
    },
    {
      "cell_type": "markdown",
      "metadata": {
        "deletable": false,
        "editable": false,
        "nbgrader": {
          "cell_type": "markdown",
          "checksum": "5f83aa777535af77fc70286bf7bafedd",
          "grade": false,
          "grade_id": "cell-34d197ef67f874ec",
          "locked": true,
          "schema_version": 3,
          "solution": false
        },
        "id": "5lqgAe1laX9I"
      },
      "source": [
        "## Задача 1 - Создание и изменение списков\n",
        "\n",
        "Ваша первая задача - создать список [метеорологических станций](http://meteomaps.ru/meteostation_codes.html) и их индексов.\n",
        "Затем вы добавите еще несколько станций в свои списки и, отсортируете списки по возрастанию индекса станции.\n",
        "Вы можете найти список станций и их индексы ниже.\n",
        "\n",
        "| Название станции        | Индекс                  |\n",
        "| ----------------------- | :---------------------: |\n",
        "| Чаунская Бухта          | 25150                   |\n",
        "| Туймазы                 | 28712                   |\n",
        "| Конги                   | 32059                   |\n",
        "| Тырка                   | 30526                   |\n",
        "| Алакуртти               | 22301                   |\n",
        "\n",
        "### Критерии успешного решения задачи\n",
        "\n",
        "- Создание двух списков для названий станций и их индексов\n",
        "- Добавление второго набора станций и индексов в ваши списки\n",
        "- Сортировка списков в соответствии с инструкциями\n",
        "- Коммит каждого изменения последовательно, используя Git, и Push изменений в Gitfliс"
      ]
    },
    {
      "cell_type": "markdown",
      "metadata": {
        "deletable": false,
        "editable": false,
        "nbgrader": {
          "cell_type": "markdown",
          "checksum": "8f9faf36dff34f1a5f43b28215a6d7b2",
          "grade": false,
          "grade_id": "cell-624ad911a29570ae",
          "locked": true,
          "schema_version": 3,
          "solution": false
        },
        "id": "-Rkkc0plaX9M"
      },
      "source": [
        "### Часть 1 - Создание списков\n",
        "\n",
        "В ячейке ниже создайте два списка:\n",
        "\n",
        "- `station_names` должен содержать названия станций в порядке, которые они приведены в таблице выше\n",
        "- `station_indexes` должен содержать метеорологические индексы станций, в указанном выше порядке"
      ]
    },
    {
      "cell_type": "code",
      "execution_count": null,
      "metadata": {
        "deletable": false,
        "nbgrader": {
          "cell_type": "code",
          "checksum": "30b2defcd516fd1d0ee4fc1d2185b387",
          "grade": false,
          "grade_id": "problem_1_ag_p1_station_lists",
          "locked": false,
          "schema_version": 3,
          "solution": true,
          "task": false
        },
        "id": "utcbNkUVaX9P"
      },
      "outputs": [],
      "source": [
        "station_names = [\"Чаунская Бухта\", \"Туймазы\", \"Конги\", \"Тырка\", \"Алакуртти\"]\n",
        "station_indexes = [25150, 28712, 32059, 30526, 22301]"
      ]
    },
    {
      "cell_type": "markdown",
      "metadata": {
        "deletable": false,
        "editable": false,
        "nbgrader": {
          "cell_type": "markdown",
          "checksum": "137ae18b47dd7d33f45036431920c009",
          "grade": false,
          "grade_id": "cell-a4f94f90a8ef693a",
          "locked": true,
          "schema_version": 3,
          "solution": false,
          "task": false
        },
        "id": "Uy5EckRKaX9Y"
      },
      "source": [
        "Давайте теперь проверим, что списки содержат ожидаемые значения."
      ]
    },
    {
      "cell_type": "code",
      "execution_count": null,
      "metadata": {
        "deletable": false,
        "editable": false,
        "nbgrader": {
          "cell_type": "code",
          "checksum": "66ba694479717036eaf391f2975da9d7",
          "grade": true,
          "grade_id": "problem_1_ag_p1_station_lists_test1",
          "locked": true,
          "points": 0.5,
          "schema_version": 3,
          "solution": false,
          "task": false
        },
        "id": "uxhHeWgraX9b"
      },
      "outputs": [],
      "source": [
        "# Это тестовая ячейка, которая проверяет, что длина списка верна\n",
        "# Запуск этой ячейки не должен производить никаких ошибок\n",
        "assert len(station_names) == 5, 'Список station_names должен иметь 5 пунктов.'\n",
        "assert len(station_indexes) == 5, 'Список station_indexes должен иметь 5 пунктов.'"
      ]
    },
    {
      "cell_type": "code",
      "execution_count": null,
      "metadata": {
        "deletable": false,
        "editable": false,
        "nbgrader": {
          "cell_type": "code",
          "checksum": "3e38bade7644bc60c3392d048f668d11",
          "grade": true,
          "grade_id": "problem_1_ag_p1_station_lists_test2",
          "locked": true,
          "points": 0.5,
          "schema_version": 3,
          "solution": false,
          "task": false
        },
        "id": "MOjPfw78aX9d"
      },
      "outputs": [],
      "source": [
        "# Это тестовая ячейка, которая проверяет, что первый элемент в списках верен\n",
        "# Запуск этой ячейки не должен производить никаких ошибок\n",
        "assert station_names[0] == 'Чаунская Бухта', 'The first item in the station_names list should be \"Чаунская Бухта\"'\n",
        "assert station_indexes[0] == 25150, 'The first item in the station_indexes list should be 25150'"
      ]
    },
    {
      "cell_type": "markdown",
      "metadata": {
        "deletable": false,
        "editable": false,
        "nbgrader": {
          "cell_type": "markdown",
          "checksum": "4fbcc633bbf12cc049142a53e1c6e5fa",
          "grade": false,
          "grade_id": "cell-111a923765d7da38",
          "locked": true,
          "schema_version": 3,
          "solution": false
        },
        "id": "R1jq5cmLaX9f"
      },
      "source": [
        "### Часть 2 - Изменение списков\n",
        "\n",
        "Давайте теперь добавим еще несколько станций в наши списки.\n",
        "Станции, которые нужно добавить, показаны в таблице ниже.\n",
        "\n",
        "| Название станции        | Индекс                  |\n",
        "| ----------------------- | :---------------------: |\n",
        "| Тадебяяха               | 20964                   |\n",
        "| Териберка               | 22028                   |\n",
        "| Краснодар Пашковская    | 34929                   |\n",
        "\n",
        "В ячейке ниже вы должны добавить станции и индексы в существующие списки `station_names` и `station_indexes` в порядке, в котором они перечислены выше."
      ]
    },
    {
      "cell_type": "code",
      "execution_count": null,
      "metadata": {
        "deletable": false,
        "nbgrader": {
          "cell_type": "code",
          "checksum": "1ae21fc20a36b1d2a8851a04ba0e0919",
          "grade": false,
          "grade_id": "problem_1_ag_p2_modify_lists",
          "locked": false,
          "schema_version": 3,
          "solution": true
        },
        "id": "3nSfgNtLaX9i"
      },
      "outputs": [],
      "source": [
        "station_names = [\"Чаунская Бухта\", \"Туймазы\", \"Конги\", \"Тырка\", \"Алакуртти\"]\n",
        "station_indexes = [25150, 28712, 32059, 30526, 22301]\n",
        "\n",
        "station_names.append(\"Тадебяяха\")\n",
        "station_names.append(\"Териберка\")\n",
        "station_names.append(\"Краснодар Пашковская\")\n",
        "\n",
        "station_indexes.append(20964)\n",
        "station_indexes.append(22028)\n",
        "station_indexes.append(34929)"
      ]
    },
    {
      "cell_type": "markdown",
      "metadata": {
        "deletable": false,
        "editable": false,
        "nbgrader": {
          "cell_type": "markdown",
          "checksum": "4a602161f3d1e9d78420fc50666dcb7d",
          "grade": false,
          "grade_id": "cell-25712dde56b0deb9",
          "locked": true,
          "schema_version": 3,
          "solution": false,
          "task": false
        },
        "id": "HMsFB1TEaX9k"
      },
      "source": [
        "Теперь мы можем проверить, содержат ли модифицированные списки ожидаемые значения."
      ]
    },
    {
      "cell_type": "code",
      "execution_count": null,
      "metadata": {
        "deletable": false,
        "editable": false,
        "nbgrader": {
          "cell_type": "code",
          "checksum": "2b48ea5a73266d2db26ddfaf63726f32",
          "grade": true,
          "grade_id": "problem_1_ag_p2_modify_lists_test1",
          "locked": true,
          "points": 0.5,
          "schema_version": 3,
          "solution": false
        },
        "id": "vJLIC36gaX9l"
      },
      "outputs": [],
      "source": [
        "# Это тестовая ячейка, которая проверяет, что длина списка верна\n",
        "# Запуск этой ячейки не должен производить никаких ошибок\n",
        "assert len(station_names) == 8, 'Список station_names должен иметь 8 элементов.'\n",
        "assert len(station_indexes) == 8, 'Список station_indexes должен иметь 8 элементов.'"
      ]
    },
    {
      "cell_type": "code",
      "execution_count": null,
      "metadata": {
        "deletable": false,
        "editable": false,
        "nbgrader": {
          "cell_type": "code",
          "checksum": "139a20a651acd1843e4c1c8a0a24c6e3",
          "grade": true,
          "grade_id": "problem_1_ag_p2_modify_lists_test2",
          "locked": true,
          "points": 0.5,
          "schema_version": 3,
          "solution": false,
          "task": false
        },
        "id": "c1S7ad_3aX9n"
      },
      "outputs": [],
      "source": [
        "# Это тестовая ячейка, которая проверяет, что последний элемент в списках верен\n",
        "# Запуск этой ячейки не должен производить никаких ошибок\n",
        "assert station_names[-1] == 'Краснодар Пашковская', 'Последний элемент в списке station_names должен быть \"Краснодар Пашковская\"'\n",
        "assert station_indexes[-1] == 34929, 'Последний элемент в списке station_indexes должен быть 34929'"
      ]
    },
    {
      "cell_type": "markdown",
      "metadata": {
        "deletable": false,
        "editable": false,
        "nbgrader": {
          "cell_type": "markdown",
          "checksum": "22b408e2113fb15a673c1d449e99429f",
          "grade": false,
          "grade_id": "cell-8c0ab6cf80173158",
          "locked": true,
          "schema_version": 3,
          "solution": false
        },
        "id": "Gv_93FJ9aX9r"
      },
      "source": [
        "### Часть 3 - Сортировка списков\n",
        "\n",
        "Наконец, мы можем взять наши списки и отсортировать их. Цель здесь состоит в том, чтобы сделать два отсортированных списка:\n",
        "\n",
        "- Список `station_names` должен быть отсортирован, чтобы станции были в алфавитном порядке\n",
        "- Список `station_indexes` должен быть отсортирован так, чтобы самый *большой* индекс был первым в списке"
      ]
    },
    {
      "cell_type": "code",
      "execution_count": null,
      "metadata": {
        "deletable": false,
        "nbgrader": {
          "cell_type": "code",
          "checksum": "8a0729c0e62a836878bfb2c533bdeef8",
          "grade": false,
          "grade_id": "problem_1_ag_p3_station_years",
          "locked": false,
          "schema_version": 3,
          "solution": true
        },
        "id": "NPizwWZnaX9t"
      },
      "outputs": [],
      "source": [
        "station_names = [\"Чаунская Бухта\", \"Туймазы\", \"Конги\", \"Тырка\", \"Алакуртти\"]\n",
        "station_indexes = [25150, 28712, 32059, 30526, 22301]\n",
        "\n",
        "station_names.append(\"Тадебяяха\")\n",
        "station_names.append(\"Териберка\")\n",
        "station_names.append(\"Краснодар Пашковская\")\n",
        "\n",
        "station_indexes.append(20964)\n",
        "station_indexes.append(22028)\n",
        "station_indexes.append(34929)\n",
        "\n",
        "station_names.sort()\n",
        "station_indexes.sort()\n",
        "station_indexes.reverse()"
      ]
    },
    {
      "cell_type": "markdown",
      "metadata": {
        "deletable": false,
        "editable": false,
        "nbgrader": {
          "cell_type": "markdown",
          "checksum": "997d3e99379c4f19b51db2f64dcd8461",
          "grade": false,
          "grade_id": "cell-a3782621daec92f2",
          "locked": true,
          "schema_version": 3,
          "solution": false
        },
        "id": "Y5yqi1ZoaX9w"
      },
      "source": [
        "Давайте теперь проверим, что первое значение в каждом отсортированном списке является правильным."
      ]
    },
    {
      "cell_type": "code",
      "execution_count": null,
      "metadata": {
        "deletable": false,
        "editable": false,
        "nbgrader": {
          "cell_type": "code",
          "checksum": "1d2643d42e74590b3b7f5009af19c86a",
          "grade": true,
          "grade_id": "problem_1_ag_p3_station_years_test1",
          "locked": true,
          "points": 1,
          "schema_version": 3,
          "solution": false,
          "task": false
        },
        "id": "Yw6DT3xtaX9y",
        "outputId": "560a4f6b-72c7-4e3b-8498-1c7075cffbcd",
        "colab": {
          "base_uri": "https://localhost:8080/",
          "height": 193
        }
      },
      "outputs": [
        {
          "output_type": "error",
          "ename": "AssertionError",
          "evalue": "Первый элемент в списке station_names должен быть \"Алакуртти\"",
          "traceback": [
            "\u001b[0;31m---------------------------------------------------------------------------\u001b[0m",
            "\u001b[0;31mAssertionError\u001b[0m                            Traceback (most recent call last)",
            "\u001b[0;32m<ipython-input-5-8c8b178b7ec9>\u001b[0m in \u001b[0;36m<cell line: 3>\u001b[0;34m()\u001b[0m\n\u001b[1;32m      1\u001b[0m \u001b[0;31m# Это тестовая ячейка, которая проверяет, что последний элемент в списках верен\u001b[0m\u001b[0;34m\u001b[0m\u001b[0;34m\u001b[0m\u001b[0m\n\u001b[1;32m      2\u001b[0m \u001b[0;31m# Запуск этой ячейки не должен производить никаких ошибок\u001b[0m\u001b[0;34m\u001b[0m\u001b[0;34m\u001b[0m\u001b[0m\n\u001b[0;32m----> 3\u001b[0;31m \u001b[0;32massert\u001b[0m \u001b[0mstation_names\u001b[0m\u001b[0;34m[\u001b[0m\u001b[0;36m0\u001b[0m\u001b[0;34m]\u001b[0m \u001b[0;34m==\u001b[0m \u001b[0;34m'Алакуртти'\u001b[0m\u001b[0;34m,\u001b[0m \u001b[0;34m'Первый элемент в списке station_names должен быть \"Алакуртти\"'\u001b[0m\u001b[0;34m\u001b[0m\u001b[0;34m\u001b[0m\u001b[0m\n\u001b[0m\u001b[1;32m      4\u001b[0m \u001b[0;32massert\u001b[0m \u001b[0mstation_indexes\u001b[0m\u001b[0;34m[\u001b[0m\u001b[0;36m0\u001b[0m\u001b[0;34m]\u001b[0m \u001b[0;34m==\u001b[0m \u001b[0;36m34929\u001b[0m\u001b[0;34m,\u001b[0m \u001b[0;34m'Первый элемент в списке station_indexes должен быть 34929'\u001b[0m\u001b[0;34m\u001b[0m\u001b[0;34m\u001b[0m\u001b[0m\n",
            "\u001b[0;31mAssertionError\u001b[0m: Первый элемент в списке station_names должен быть \"Алакуртти\""
          ]
        }
      ],
      "source": [
        "# Это тестовая ячейка, которая проверяет, что последний элемент в списках верен\n",
        "# Запуск этой ячейки не должен производить никаких ошибок\n",
        "assert station_names[0] == 'Алакуртти', 'Первый элемент в списке station_names должен быть \"Алакуртти\"'\n",
        "assert station_indexes[0] == 34929, 'Первый элемент в списке station_indexes должен быть 34929'"
      ]
    },
    {
      "cell_type": "markdown",
      "metadata": {
        "deletable": false,
        "editable": false,
        "nbgrader": {
          "cell_type": "markdown",
          "checksum": "5250b41453218310e2284d6da716e2e8",
          "grade": false,
          "grade_id": "final_answer_question",
          "locked": true,
          "schema_version": 3,
          "solution": false
        },
        "id": "OGElNopFaX90"
      },
      "source": [
        "### Часть 4 - Понимание кода\n",
        "\n",
        "Глядя на списки, используемые в проблеме 1, в чем может быть проблема с тем, как мы их сортировали?\n",
        "Пожалуйста, ответьте кратко в ячейке ниже."
      ]
    },
    {
      "cell_type": "markdown",
      "source": [
        "Проблема может быть во время сортировки индексов и названий, так как они могли бы перемешаться."
      ],
      "metadata": {
        "id": "--ofGpwnkmHE"
      }
    },
    {
      "cell_type": "markdown",
      "metadata": {
        "deletable": false,
        "nbgrader": {
          "cell_type": "markdown",
          "checksum": "c947bd864796e1c454306db805bfec51",
          "grade": true,
          "grade_id": "problem_1_mg_p4_final_answer_question_test",
          "locked": false,
          "points": 0,
          "schema_version": 3,
          "solution": true
        },
        "id": "favV65EsaX92"
      },
      "source": [
        "Ваш ответ здесь"
      ]
    },
    {
      "cell_type": "markdown",
      "metadata": {
        "deletable": false,
        "editable": false,
        "nbgrader": {
          "cell_type": "markdown",
          "checksum": "d3ceafcfeb212e18fbbc5fac8079cfae",
          "grade": false,
          "grade_id": "problem_1_mg_p5_zip",
          "locked": true,
          "schema_version": 3,
          "solution": false,
          "task": false
        },
        "id": "bu-iAC3taX94"
      },
      "source": [
        "### Часть 5 - Python + Google (необязательно)\n",
        "\n",
        "Python имеет функцию под названием `zip()`, которая может быть полезна для решения проблемы, упомянутой в части 4.\n",
        "Вы можете немного погуглить и посмотреть как использовать функцию `zip()`.\n",
        "Это необязательная задача.\n",
        "\n",
        "**ПРИМЕЧАНИЕ**: Если вы планируете пропустить эту задачу, обязательно удалите линию `raise NotimplementError()` в ячейке ниже, чтобы у вас не было никаких ошибок, когда мы запускаем ноутбук."
      ]
    },
    {
      "cell_type": "code",
      "execution_count": null,
      "metadata": {
        "deletable": false,
        "nbgrader": {
          "cell_type": "code",
          "checksum": "5baa8f50e1d4dd0f801af1f4d13aa9fc",
          "grade": true,
          "grade_id": "problem_1_mg_p5_zip_test",
          "locked": false,
          "points": 0,
          "schema_version": 3,
          "solution": true,
          "task": false
        },
        "id": "TRv0c7REaX97"
      },
      "outputs": [],
      "source": [
        "station_names = [\"Чаунская Бухта\", \"Туймазы\", \"Конги\", \"Тырка\", \"Алакуртти\"]\n",
        "station_indexes = [25150, 28712, 32059, 30526, 22301]\n",
        "\n",
        "station_names.append(\"Тадебяяха\")\n",
        "station_names.append(\"Териберка\")\n",
        "station_names.append(\"Краснодар Пашковская\")\n",
        "\n",
        "station_indexes.append(20964)\n",
        "station_indexes.append(22028)\n",
        "station_indexes.append(34929)\n",
        "\n",
        "staion_pair = zip(station_names, station_indexes)\n",
        "\n",
        "station_names.sort()\n",
        "station_indexes.sort()\n",
        "station_indexes.reverse()"
      ]
    },
    {
      "cell_type": "markdown",
      "metadata": {
        "deletable": false,
        "editable": false,
        "nbgrader": {
          "cell_type": "markdown",
          "checksum": "716edb4d88004f4e37b7a7e0b9af5212",
          "grade": false,
          "grade_id": "cell-f328c6e177c1d29c",
          "locked": true,
          "schema_version": 3,
          "solution": false
        },
        "id": "kPJMqNWhaX9-"
      },
      "source": [
        "## Задача 2 - Cредняя температура\n",
        "\n",
        "В таблице ниже представлены [среднемесячные и годовые значения метеорологических параметров по данным за период 1991-2020 гг. по Санкт-Петербургу](http://www.meteo.nw.ru/articles/index.php?id=2).\n",
        "\n",
        "\n",
        "| Month    | Temperature [°C] |\n",
        "| ---------| :--------------: |\n",
        "| Январь   | -4.8             |\n",
        "| Февраль  | -5.0             |\n",
        "| Март     | -1.0             |\n",
        "| Апрель   | 5.2              |\n",
        "| Май      | 11.5             |\n",
        "| Июнь     | 16.1             |\n",
        "| Июль     | 19.1             |\n",
        "| Август   | 17.4             |\n",
        "| Сентябрь | 12.4             |\n",
        "| Октябрь  | 6.2              |\n",
        "| Ноябрь   | 0.9              |\n",
        "| Декабрь  | -2.5             |\n",
        "\n",
        "В ячейке кода ниже напишите код Python, который позволит пользователям выбирать месяц и получать ежемесячную среднюю температуру на экране.\n",
        "Например, ваш код должен отображать следующее за март:\n",
        "\n",
        "```\n",
        "Средняя температура в Санкт-Петербурге в марте составляет -1,0\n",
        "```\n",
        "\n",
        "### Критерии успешного выполнения задачи 2\n",
        "\n",
        "- Ваш блокнот отображает ежемесячную температуру в выбранном месяце путем определения переменной `selected_month_index`. **Примечание**: Мы ожидаем, что вы будете использовать значение индекса для выбора месяца, а не имя месяца.\n",
        "- Код работает для всех 12 месяцев в году.\n",
        "- Код имеет комментарии\n",
        "– Код добавлен в репозиторий"
      ]
    },
    {
      "cell_type": "code",
      "execution_count": null,
      "metadata": {
        "deletable": false,
        "nbgrader": {
          "cell_type": "code",
          "checksum": "2828ab0c438284e5a404189fb2c7d539",
          "grade": false,
          "grade_id": "problem_2_ag_p1_define_lists",
          "locked": false,
          "schema_version": 3,
          "solution": true
        },
        "id": "2olJ3og5aX-A"
      },
      "outputs": [],
      "source": [
        "# переменная для установки выбранного месяца\n",
        "selected_month_index = 10\n",
        "\n",
        "# создание списков из месяцов и средних температур\n",
        "months = [\"Январь\", \"Февраль\", \"Март\", \"Апрель\", \"Май\", \"Июнь\", \"Июль\", \"Август\", \"Сентябрь\", \"Октябрь\", \"Ноябрь\", \"Декабрь\"]\n",
        "average_temp = [-4.8, -5.0, -1.0, 5.2, 11.5, 16.1, 19.1, 17.4, 12.4, 6.2, 0.9, -2.5]\n",
        "\n",
        "# переменная для вывода строки на экран\n",
        "print_statement = \"Средняя температура в Санкт-Петербурге в\" + months[selected_month_index] + \"составляет\" + str(average_temp[selected_month_index])\n",
        "print(print_statement)"
      ]
    },
    {
      "cell_type": "code",
      "execution_count": null,
      "metadata": {
        "deletable": false,
        "editable": false,
        "nbgrader": {
          "cell_type": "code",
          "checksum": "c0b2fd91ee67d8015e9158f2b313a1e0",
          "grade": true,
          "grade_id": "problem_2_ag_p1_define_lists_test1",
          "locked": true,
          "points": 1,
          "schema_version": 3,
          "solution": false
        },
        "id": "uT21_hglaX-C"
      },
      "outputs": [],
      "source": [
        "# Вывод результата на экран\n",
        "print(print_statement)"
      ]
    },
    {
      "cell_type": "markdown",
      "metadata": {
        "deletable": false,
        "editable": false,
        "nbgrader": {
          "cell_type": "markdown",
          "checksum": "a5ae61d13ab20578505657c63a0ba4c9",
          "grade": false,
          "grade_id": "cell-3fb0ac91413aeadc",
          "locked": true,
          "schema_version": 3,
          "solution": false,
          "task": false
        },
        "id": "L1AociNbaX-D"
      },
      "source": [
        "### Дополнительные тесты для проблемы 2"
      ]
    },
    {
      "cell_type": "code",
      "execution_count": null,
      "metadata": {
        "deletable": false,
        "editable": false,
        "nbgrader": {
          "cell_type": "code",
          "checksum": "df0c440fdd104211a636b03b72513edb",
          "grade": true,
          "grade_id": "problem_2_ag_p1_define_lists_test2",
          "locked": true,
          "points": 1,
          "schema_version": 3,
          "solution": false
        },
        "id": "T6aqR7E6aX-F"
      },
      "outputs": [],
      "source": [
        "# Оба списка имеют длину 12\n",
        "assert len(months) == 12, 'Неправильная длина!'\n",
        "assert len(average_temp) == 12, 'Неправильная длина!'"
      ]
    },
    {
      "cell_type": "code",
      "execution_count": null,
      "metadata": {
        "deletable": false,
        "editable": false,
        "nbgrader": {
          "cell_type": "code",
          "checksum": "199eccdae7bb698b3602374da86169e8",
          "grade": true,
          "grade_id": "problem_2_ag_p1_define_lists_test3",
          "locked": true,
          "points": 1,
          "schema_version": 3,
          "solution": false
        },
        "id": "Pgfotl1yaX-H"
      },
      "outputs": [],
      "source": [
        "# Переменные months и average_temp являются списками\n",
        "assert isinstance(months, list), 'Переменная months не является списком'\n",
        "assert isinstance(average_temp, list), 'Переменная average_temp не является списком'"
      ]
    },
    {
      "cell_type": "markdown",
      "metadata": {
        "deletable": false,
        "editable": false,
        "nbgrader": {
          "cell_type": "markdown",
          "checksum": "458c0f4542e2e108f9e7d3c1954ac1df",
          "grade": false,
          "grade_id": "markdown_practice",
          "locked": true,
          "schema_version": 3,
          "solution": false
        },
        "id": "IN_jL03iaX-K"
      },
      "source": [
        "## Задача 3 - практика использования Markdown\n",
        "\n",
        "Последняя задача в этом упражнении - ответить на вопросы и добавить изображение в этот блокнот, используя Markdown. **ПРИМЕЧАНИЕ**: Вы можете прочесть о [форматировании текста Markdown здесь](https://help.github.com/articles/basic-writing-and-formatting-syntax/).\n",
        "\n",
        "### Критерии успешного выполнения\n",
        "\n",
        "- Есть ответы на три вопроса ниже\n",
        "- Есть изображение любимого животного с использованием Markdown"
      ]
    },
    {
      "cell_type": "markdown",
      "metadata": {
        "deletable": false,
        "editable": false,
        "nbgrader": {
          "cell_type": "markdown",
          "checksum": "752a5d84f7e4a7915f6222e50e8fe540",
          "grade": false,
          "grade_id": "cell-fc10820df7d8d3a7",
          "locked": true,
          "schema_version": 3,
          "solution": false,
          "task": false
        },
        "id": "2F3bWlZlaX-N"
      },
      "source": [
        "### Часть 1\n",
        "\n",
        "Используйте Markdown, чтобы ответить на три вопроса ниже.\n",
        "\n",
        "- Что нового вы изучили в этом уроке?\n",
        "- Что было непонятно?\n",
        "- Что бы вы поменяли или улучшили?\n",
        "    \n",
        "*Пожалуйста, используйте список Markdown при ответе на эти вопросы.*"
      ]
    },
    {
      "cell_type": "markdown",
      "source": [
        "*На этом уроке я научилась работать со списками, сортировать их, а также научилась использовать функцию zip*\n",
        "**В целом все понятно**\n",
        "~Меня все устраивает~"
      ],
      "metadata": {
        "id": "DMFvYcM3rT7r"
      }
    },
    {
      "cell_type": "markdown",
      "metadata": {
        "deletable": false,
        "nbgrader": {
          "cell_type": "markdown",
          "checksum": "07de9dee5b2705f62be6f4908840a277",
          "grade": true,
          "grade_id": "problem_3_mg_p1_questions",
          "locked": false,
          "points": 1,
          "schema_version": 3,
          "solution": true
        },
        "id": "H1rdYKU_aX-P"
      },
      "source": [
        "Ваш ответ здесь"
      ]
    },
    {
      "cell_type": "markdown",
      "metadata": {
        "deletable": false,
        "editable": false,
        "nbgrader": {
          "cell_type": "markdown",
          "checksum": "37fd62cb66a3099c5a479826fdab9c48",
          "grade": false,
          "grade_id": "cell-d6174b4b759ce32d",
          "locked": true,
          "schema_version": 3,
          "solution": false,
          "task": false
        },
        "id": "7glWyyrpaX-Q"
      },
      "source": [
        "### Часть 2 - добавление изображения\n",
        "\n",
        "Добавьте изображение животного, которое вам нравится, вместе с короткой подписью.\n",
        "\n",
        "Вы можете добавить изображение, используя URL-адрес, или загрузив изображение в ваш репозиторий и связав файл изображения с этим блокнотом.\n",
        "\n",
        "Вы можете искать картинки на [Wikimedia Commons](https://commons.wikimedia.org/wiki/Main_Page) или [Pixabay](https://pixabay.com/), или загрузите свои собственные изображения животных."
      ]
    },
    {
      "cell_type": "markdown",
      "source": [
        "![*красная панда спит*](https://image.arrivalguides.com/x/17/5ccf9c8645701c2aead1f843c495cb9b.jpg)"
      ],
      "metadata": {
        "id": "aciT4mdvtXRV"
      }
    },
    {
      "cell_type": "markdown",
      "source": [],
      "metadata": {
        "id": "59A7rzV9k9Fa"
      }
    },
    {
      "cell_type": "markdown",
      "metadata": {
        "deletable": false,
        "nbgrader": {
          "cell_type": "markdown",
          "checksum": "1db2dc7f7a933da2050ba0fc4ac2ce2f",
          "grade": true,
          "grade_id": "problem_3_mg_p1_insert_image",
          "locked": false,
          "points": 1,
          "schema_version": 3,
          "solution": true
        },
        "id": "RQ907KakaX-S"
      },
      "source": [
        "Ваш ответ здесь"
      ]
    }
  ],
  "metadata": {
    "anaconda-cloud": {},
    "kernelspec": {
      "display_name": "Python 3 (ipykernel)",
      "language": "python",
      "name": "python3"
    },
    "language_info": {
      "codemirror_mode": {
        "name": "ipython",
        "version": 3
      },
      "file_extension": ".py",
      "mimetype": "text/x-python",
      "name": "python",
      "nbconvert_exporter": "python",
      "pygments_lexer": "ipython3",
      "version": "3.12.1"
    },
    "colab": {
      "provenance": [],
      "include_colab_link": true
    }
  },
  "nbformat": 4,
  "nbformat_minor": 0
}